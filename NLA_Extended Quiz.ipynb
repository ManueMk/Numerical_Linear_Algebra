{
 "cells": [
  {
   "cell_type": "markdown",
   "id": "educated-general",
   "metadata": {},
   "source": [
    "**Exercise 1**\n",
    "\n",
    "Cosider the system\n",
    "\n",
    "\\begin{equation}\n",
    "    \\begin{cases}\n",
    "        2x+y=z+8\\\\\n",
    "        -3x=y-2z-11\\\\ \\label{eq1} \\tag{1}\n",
    "        -2x+y+2z=-3,\n",
    "    \\end{cases}\n",
    "\\end{equation}\n",
    "write in the form of $Ax=b$.\n",
    "\n",
    "(a) Use **LU factorization** to solve the system \\eqref{eq1} (*use your own forward and backward substituion function code, to be submitted*)"
   ]
  },
  {
   "cell_type": "code",
   "execution_count": 175,
   "id": "reasonable-petersburg",
   "metadata": {},
   "outputs": [
    {
     "data": {
      "text/plain": [
       "3×3 Matrix{Int64}:\n",
       "  2   1  -1\n",
       " -3  -1   2\n",
       " -2   1   2"
      ]
     },
     "execution_count": 175,
     "metadata": {},
     "output_type": "execute_result"
    }
   ],
   "source": [
    "A= [2 1 -1; -3 -1 2; -2 1 2]"
   ]
  },
  {
   "cell_type": "code",
   "execution_count": 176,
   "id": "d2c9e811-a3e9-44f0-be91-5273168eb668",
   "metadata": {},
   "outputs": [
    {
     "data": {
      "text/plain": [
       "3-element Vector{Int64}:\n",
       "   8\n",
       " -11\n",
       "  -3"
      ]
     },
     "execution_count": 176,
     "metadata": {},
     "output_type": "execute_result"
    }
   ],
   "source": [
    "b = [8; -11; -3]"
   ]
  },
  {
   "cell_type": "code",
   "execution_count": 177,
   "id": "6b66f413-73a7-4d5a-af2a-313e8b365a73",
   "metadata": {},
   "outputs": [
    {
     "data": {
      "text/plain": [
       "LU{Float64, Matrix{Float64}, Vector{Int64}}\n",
       "L factor:\n",
       "3×3 Matrix{Float64}:\n",
       "  1.0       0.0  0.0\n",
       "  0.666667  1.0  0.0\n",
       " -0.666667  0.2  1.0\n",
       "U factor:\n",
       "3×3 Matrix{Float64}:\n",
       " -3.0  -1.0      2.0\n",
       "  0.0   1.66667  0.666667\n",
       "  0.0   0.0      0.2"
      ]
     },
     "execution_count": 177,
     "metadata": {},
     "output_type": "execute_result"
    }
   ],
   "source": [
    "using LinearAlgebra\n",
    "\n",
    "lu(A)"
   ]
  },
  {
   "cell_type": "code",
   "execution_count": 178,
   "id": "9fcc3323-a79b-4c98-b869-ea969c7676db",
   "metadata": {},
   "outputs": [
    {
     "data": {
      "text/plain": [
       "3×3 Matrix{Float64}:\n",
       "  1.0       0.0  0.0\n",
       "  0.666667  1.0  0.0\n",
       " -0.666667  0.2  1.0"
      ]
     },
     "execution_count": 178,
     "metadata": {},
     "output_type": "execute_result"
    }
   ],
   "source": [
    "l= lu(A).L\n"
   ]
  },
  {
   "cell_type": "code",
   "execution_count": 179,
   "id": "48aa01f6-ed1f-4f72-86f2-2b403a0c5293",
   "metadata": {},
   "outputs": [
    {
     "data": {
      "text/plain": [
       "3×3 Matrix{Float64}:\n",
       " -3.0  -1.0      2.0\n",
       "  0.0   1.66667  0.666667\n",
       "  0.0   0.0      0.2"
      ]
     },
     "execution_count": 179,
     "metadata": {},
     "output_type": "execute_result"
    }
   ],
   "source": [
    "u= lu(A).U"
   ]
  },
  {
   "cell_type": "code",
   "execution_count": 180,
   "id": "5472fca8-6b21-4cd3-9715-73c9ce2e810d",
   "metadata": {},
   "outputs": [
    {
     "data": {
      "text/plain": [
       "3×3 Matrix{Float64}:\n",
       " 0.0  1.0  0.0\n",
       " 0.0  0.0  1.0\n",
       " 1.0  0.0  0.0"
      ]
     },
     "execution_count": 180,
     "metadata": {},
     "output_type": "execute_result"
    }
   ],
   "source": [
    "p = lu(A).P"
   ]
  },
  {
   "cell_type": "code",
   "execution_count": 181,
   "id": "d39aefa4-1d7d-4d16-abad-441f2cbc2416",
   "metadata": {},
   "outputs": [
    {
     "data": {
      "text/plain": [
       "true"
      ]
     },
     "execution_count": 181,
     "metadata": {},
     "output_type": "execute_result"
    }
   ],
   "source": [
    "A ≈ p' *l*u"
   ]
  },
  {
   "cell_type": "code",
   "execution_count": 182,
   "id": "984d39b1-d38b-4404-ac68-05679fefbb8b",
   "metadata": {},
   "outputs": [
    {
     "data": {
      "text/plain": [
       "3-element Vector{Float64}:\n",
       " -11.0\n",
       "  -3.0\n",
       "   8.0"
      ]
     },
     "execution_count": 182,
     "metadata": {},
     "output_type": "execute_result"
    }
   ],
   "source": [
    "b1= p*b\n"
   ]
  },
  {
   "cell_type": "code",
   "execution_count": 183,
   "id": "521e9639-9d96-4d3b-9a8b-c271e5fe6863",
   "metadata": {},
   "outputs": [
    {
     "data": {
      "text/plain": [
       "3-element Vector{Float64}:\n",
       " -11.0\n",
       "   4.333333333333333\n",
       "  -0.19999999999999984"
      ]
     },
     "execution_count": 183,
     "metadata": {},
     "output_type": "execute_result"
    }
   ],
   "source": [
    "y = l\\b1"
   ]
  },
  {
   "cell_type": "code",
   "execution_count": 184,
   "id": "6faf5bf3-29ba-4cba-9c3a-c78eedb34729",
   "metadata": {},
   "outputs": [
    {
     "data": {
      "text/plain": [
       "3-element Vector{Float64}:\n",
       "  2.0000000000000004\n",
       "  2.9999999999999996\n",
       " -0.9999999999999994"
      ]
     },
     "execution_count": 184,
     "metadata": {},
     "output_type": "execute_result"
    }
   ],
   "source": [
    "x = u\\y"
   ]
  },
  {
   "cell_type": "code",
   "execution_count": 185,
   "id": "280ee892-6b9e-459b-8aa4-7fabc296cab5",
   "metadata": {},
   "outputs": [
    {
     "data": {
      "text/plain": [
       "forward_sub (generic function with 1 method)"
      ]
     },
     "execution_count": 185,
     "metadata": {},
     "output_type": "execute_result"
    }
   ],
   "source": [
    "function forward_sub(A, b)\n",
    "    n = length(b)\n",
    "    for i in 1:n\n",
    "        for j in (1:i-1)\n",
    "            b[i] = b[i] - A[i, j] * b[j]\n",
    "        end\n",
    "        b[i] = b[i]/ A[i, i]\n",
    "    end\n",
    "    return b\n",
    "end"
   ]
  },
  {
   "cell_type": "code",
   "execution_count": 186,
   "id": "4a35e175-7ffd-462c-a383-12933badc79d",
   "metadata": {},
   "outputs": [
    {
     "data": {
      "text/plain": [
       "1×3 adjoint(::Vector{Float64}) with eltype Float64:\n",
       " -11.0  4.33333  -0.2"
      ]
     },
     "metadata": {},
     "output_type": "display_data"
    }
   ],
   "source": [
    "y= forward_sub(l, b1')\n",
    "display(y)"
   ]
  },
  {
   "cell_type": "code",
   "execution_count": 187,
   "id": "cb1c4d8a-8f58-4d03-b38d-d1942d2d3b9e",
   "metadata": {},
   "outputs": [
    {
     "data": {
      "text/plain": [
       "backward_sub (generic function with 1 method)"
      ]
     },
     "execution_count": 187,
     "metadata": {},
     "output_type": "execute_result"
    }
   ],
   "source": [
    "function backward_sub(A, b)\n",
    "    n = length(b)\n",
    "    for i in n:-1:1\n",
    "        for j in (n:-1:i+1)\n",
    "            b[i] = b[i] - A[i, j] * b[j]\n",
    "        end\n",
    "        b[i] = b[i]/ A[i, i]\n",
    "    end\n",
    "    return b\n",
    "end"
   ]
  },
  {
   "cell_type": "code",
   "execution_count": 188,
   "id": "6906036a-872b-469d-92ae-eefa660af52b",
   "metadata": {},
   "outputs": [
    {
     "data": {
      "text/plain": [
       "1×3 adjoint(::Vector{Float64}) with eltype Float64:\n",
       " 2.0  3.0  -1.0"
      ]
     },
     "execution_count": 188,
     "metadata": {},
     "output_type": "execute_result"
    }
   ],
   "source": [
    "x = backward_sub(u, y)"
   ]
  },
  {
   "cell_type": "code",
   "execution_count": null,
   "id": "755291d9-9c24-43c8-a9e0-88279c6ef8a9",
   "metadata": {},
   "outputs": [],
   "source": []
  },
  {
   "cell_type": "code",
   "execution_count": null,
   "id": "4c0df91b-2ffe-4db7-ad45-79db5fea0963",
   "metadata": {},
   "outputs": [],
   "source": []
  },
  {
   "cell_type": "markdown",
   "id": "demanding-lesson",
   "metadata": {},
   "source": [
    "(b) Can you solve the system of equations (1) above by Cholesky decomposition ? why ?"
   ]
  },
  {
   "cell_type": "code",
   "execution_count": 36,
   "id": "0556c158-98f8-40ff-814d-8fce43839384",
   "metadata": {},
   "outputs": [
    {
     "data": {
      "text/plain": [
       "false"
      ]
     },
     "execution_count": 36,
     "metadata": {},
     "output_type": "execute_result"
    }
   ],
   "source": [
    "isposdef(A)"
   ]
  },
  {
   "cell_type": "markdown",
   "id": "1ce268e4-ed31-4306-a997-8e8257bac327",
   "metadata": {},
   "source": [
    "No, because A is not positive definite"
   ]
  },
  {
   "cell_type": "markdown",
   "id": "fuzzy-outreach",
   "metadata": {},
   "source": [
    "(c) Can the system (1) above be stable to a small change in b ?"
   ]
  },
  {
   "cell_type": "code",
   "execution_count": 37,
   "id": "69572991-27dc-47f3-bb0d-a9ecc951f866",
   "metadata": {},
   "outputs": [
    {
     "data": {
      "text/plain": [
       "77.00000000000003"
      ]
     },
     "execution_count": 37,
     "metadata": {},
     "output_type": "execute_result"
    }
   ],
   "source": [
    "cond(A, 1)"
   ]
  },
  {
   "cell_type": "markdown",
   "id": "56d80336-76b3-41b9-ba24-3f02355a883f",
   "metadata": {},
   "source": [
    "No, the system is not stable because the condition number is too large"
   ]
  },
  {
   "cell_type": "markdown",
   "id": "exterior-continent",
   "metadata": {},
   "source": [
    "**Exercise 2**\n",
    "\n",
    "Let $$A = \\begin{pmatrix}2&-1\\\\0&1\\\\2&2\\end{pmatrix}, \\quad b=\\begin{pmatrix}1\\\\-5\\\\6\\end{pmatrix}\\quad \\text{such that}\\quad Ax=b,\\quad x\\in\\mathbb{R}^2  \\label{eq2}\\tag{2}$$\n",
    "\n",
    "(a) Explain the different steps to solve problem \\eqref{eq2} above."
   ]
  },
  {
   "cell_type": "markdown",
   "id": "c16d1a06-62da-4da8-9d46-f4505610c0a8",
   "metadata": {},
   "source": [
    "- Multiply the equation by A transpose $$ A^T *Ax= A^T *b $$\n",
    "- Find $$ b1 = A^T *b $$\n",
    "- Find a symmetric positive definite matrix $$C = A^T *A $$ \n",
    "- Decompose C by using Cholesky such that $$C = R^T * R$$ \n",
    "- Solve $$b1 = R^T * y$$ and  $$y = R * x$$"
   ]
  },
  {
   "cell_type": "markdown",
   "id": "violent-sampling",
   "metadata": {},
   "source": [
    "(b) Use your forward and backward function code to solve the problem (2) above."
   ]
  },
  {
   "cell_type": "code",
   "execution_count": 189,
   "id": "690b45c1-c4a1-4399-a4d3-df01aec7cbe3",
   "metadata": {},
   "outputs": [
    {
     "data": {
      "text/plain": [
       "3×2 Matrix{Int64}:\n",
       " 2  -1\n",
       " 0   1\n",
       " 2   2"
      ]
     },
     "execution_count": 189,
     "metadata": {},
     "output_type": "execute_result"
    }
   ],
   "source": [
    "A = [2 -1; 0 1; 2 2]"
   ]
  },
  {
   "cell_type": "code",
   "execution_count": 190,
   "id": "976e91e8-03ff-4f0b-ae03-23c7f0dd3a74",
   "metadata": {},
   "outputs": [
    {
     "data": {
      "text/plain": [
       "3-element Vector{Float64}:\n",
       "  1.0\n",
       " -5.0\n",
       "  6.0"
      ]
     },
     "execution_count": 190,
     "metadata": {},
     "output_type": "execute_result"
    }
   ],
   "source": [
    "b = [1.0; -5.0; 6.0]"
   ]
  },
  {
   "cell_type": "code",
   "execution_count": 191,
   "id": "activated-liberia",
   "metadata": {},
   "outputs": [
    {
     "data": {
      "text/plain": [
       "2-element Vector{Float64}:\n",
       " 14.0\n",
       "  6.0"
      ]
     },
     "execution_count": 191,
     "metadata": {},
     "output_type": "execute_result"
    }
   ],
   "source": [
    "b1= A'b"
   ]
  },
  {
   "cell_type": "code",
   "execution_count": 192,
   "id": "ce0d2f6f-c694-4a5f-918c-e01233320446",
   "metadata": {},
   "outputs": [
    {
     "data": {
      "text/plain": [
       "2×2 Matrix{Int64}:\n",
       " 8  2\n",
       " 2  6"
      ]
     },
     "execution_count": 192,
     "metadata": {},
     "output_type": "execute_result"
    }
   ],
   "source": [
    "C= A' * A"
   ]
  },
  {
   "cell_type": "code",
   "execution_count": 193,
   "id": "2b4ff98a-8b73-462f-ac2a-544d09f7ff72",
   "metadata": {},
   "outputs": [
    {
     "data": {
      "text/plain": [
       "2×2 UpperTriangular{Float64, Matrix{Float64}}:\n",
       " 2.82843  0.707107\n",
       "  ⋅       2.34521"
      ]
     },
     "execution_count": 193,
     "metadata": {},
     "output_type": "execute_result"
    }
   ],
   "source": [
    "R = cholesky(C).U"
   ]
  },
  {
   "cell_type": "code",
   "execution_count": 194,
   "id": "9cbb42a7-3250-4a2c-be93-78455d4066fa",
   "metadata": {},
   "outputs": [
    {
     "data": {
      "text/plain": [
       "2×2 LowerTriangular{Float64, Adjoint{Float64, Matrix{Float64}}}:\n",
       " 2.82843    ⋅ \n",
       " 0.707107  2.34521"
      ]
     },
     "execution_count": 194,
     "metadata": {},
     "output_type": "execute_result"
    }
   ],
   "source": [
    "R'"
   ]
  },
  {
   "cell_type": "code",
   "execution_count": 195,
   "id": "8d1e1bcf-2b75-455a-b873-8e3d330702b3",
   "metadata": {
    "scrolled": true
   },
   "outputs": [
    {
     "data": {
      "text/plain": [
       "true"
      ]
     },
     "execution_count": 195,
     "metadata": {},
     "output_type": "execute_result"
    }
   ],
   "source": [
    "C ≈ R'*R"
   ]
  },
  {
   "cell_type": "code",
   "execution_count": 196,
   "id": "d82a93ac-50f1-46c6-a62e-7190a41fdb6d",
   "metadata": {},
   "outputs": [
    {
     "data": {
      "text/plain": [
       "2-element Vector{Float64}:\n",
       " 4.949747468305833\n",
       " 1.0660035817780522"
      ]
     },
     "execution_count": 196,
     "metadata": {},
     "output_type": "execute_result"
    }
   ],
   "source": [
    "y = R'\\ b1"
   ]
  },
  {
   "cell_type": "code",
   "execution_count": 197,
   "id": "461abe55-2468-4b1a-babd-fc5ae2d0f29c",
   "metadata": {},
   "outputs": [
    {
     "data": {
      "text/plain": [
       "2-element Vector{Float64}:\n",
       " 1.6363636363636365\n",
       " 0.45454545454545453"
      ]
     },
     "execution_count": 197,
     "metadata": {},
     "output_type": "execute_result"
    }
   ],
   "source": [
    "x = R\\y"
   ]
  },
  {
   "cell_type": "code",
   "execution_count": 198,
   "id": "116324f1-d9a2-479f-8d03-fa2347870ab3",
   "metadata": {},
   "outputs": [
    {
     "data": {
      "text/plain": [
       "2-element Vector{Float64}:\n",
       " 4.949747468305833\n",
       " 1.0660035817780522"
      ]
     },
     "metadata": {},
     "output_type": "display_data"
    }
   ],
   "source": [
    "y= forward_sub(R', b1)\n",
    "display(y)"
   ]
  },
  {
   "cell_type": "code",
   "execution_count": 199,
   "id": "b606efa8-cebf-4894-8e1e-4c44da823267",
   "metadata": {},
   "outputs": [
    {
     "data": {
      "text/plain": [
       "2-element Vector{Float64}:\n",
       " 1.6363636363636365\n",
       " 0.45454545454545453"
      ]
     },
     "execution_count": 199,
     "metadata": {},
     "output_type": "execute_result"
    }
   ],
   "source": [
    "x = backward_sub(R, y)"
   ]
  },
  {
   "cell_type": "code",
   "execution_count": null,
   "id": "a3bd032a-8fca-4570-97a6-19e702cc08f8",
   "metadata": {},
   "outputs": [],
   "source": []
  },
  {
   "cell_type": "code",
   "execution_count": null,
   "id": "7c629dd6-35f0-4344-a543-a111829e7b9a",
   "metadata": {},
   "outputs": [],
   "source": []
  },
  {
   "cell_type": "code",
   "execution_count": 24,
   "id": "b3ee9415-1e02-46ea-b141-d5d9eaea4316",
   "metadata": {},
   "outputs": [
    {
     "data": {
      "text/plain": [
       "3×3 Matrix{Int64}:\n",
       "  2  -1  -1\n",
       " -3  -1   2\n",
       " -2   1   2"
      ]
     },
     "execution_count": 24,
     "metadata": {},
     "output_type": "execute_result"
    }
   ],
   "source": [
    "A= [2 -1 -1; -3 -1 2; -2 1 2]"
   ]
  },
  {
   "cell_type": "code",
   "execution_count": 3,
   "id": "c504a993-9352-42ec-9e68-41648cce6a1e",
   "metadata": {},
   "outputs": [
    {
     "data": {
      "text/plain": [
       "3×1 adjoint(::Matrix{Int64}) with eltype Int64:\n",
       "   8\n",
       " -11\n",
       "  -3"
      ]
     },
     "execution_count": 3,
     "metadata": {},
     "output_type": "execute_result"
    }
   ],
   "source": [
    "b=[8 -11 -3]'"
   ]
  },
  {
   "cell_type": "code",
   "execution_count": 4,
   "id": "bd513ba7-c743-46f4-b95c-d35158ec7157",
   "metadata": {},
   "outputs": [
    {
     "data": {
      "text/plain": [
       "LU{Float64, Matrix{Float64}, Vector{Int64}}\n",
       "L factor:\n",
       "3×3 Matrix{Float64}:\n",
       "  1.0        0.0  0.0\n",
       " -0.666667   1.0  0.0\n",
       "  0.666667  -1.0  1.0\n",
       "U factor:\n",
       "3×3 Matrix{Float64}:\n",
       " -3.0  -1.0      2.0\n",
       "  0.0  -1.66667  0.333333\n",
       "  0.0   0.0      1.0"
      ]
     },
     "execution_count": 4,
     "metadata": {},
     "output_type": "execute_result"
    }
   ],
   "source": [
    "using LinearAlgebra\n",
    "lu(A)"
   ]
  },
  {
   "cell_type": "code",
   "execution_count": 5,
   "id": "394a2aaf-888c-4e56-88f1-6e769fe9f1d5",
   "metadata": {},
   "outputs": [
    {
     "data": {
      "text/plain": [
       "3×3 Matrix{Float64}:\n",
       "  1.0        0.0  0.0\n",
       " -0.666667   1.0  0.0\n",
       "  0.666667  -1.0  1.0"
      ]
     },
     "execution_count": 5,
     "metadata": {},
     "output_type": "execute_result"
    }
   ],
   "source": [
    "L = lu(A).L"
   ]
  },
  {
   "cell_type": "code",
   "execution_count": 6,
   "id": "e0a3795c-741c-4b92-9dc6-16f03f14602b",
   "metadata": {},
   "outputs": [
    {
     "data": {
      "text/plain": [
       "3×3 Matrix{Float64}:\n",
       " -3.0  -1.0      2.0\n",
       "  0.0  -1.66667  0.333333\n",
       "  0.0   0.0      1.0"
      ]
     },
     "execution_count": 6,
     "metadata": {},
     "output_type": "execute_result"
    }
   ],
   "source": [
    "U = lu(A). U"
   ]
  },
  {
   "cell_type": "code",
   "execution_count": 7,
   "id": "da0cfc27-b3dc-4561-99f5-32f2f14d3a18",
   "metadata": {},
   "outputs": [
    {
     "data": {
      "text/plain": [
       "3×3 Matrix{Float64}:\n",
       " 0.0  1.0  0.0\n",
       " 1.0  0.0  0.0\n",
       " 0.0  0.0  1.0"
      ]
     },
     "execution_count": 7,
     "metadata": {},
     "output_type": "execute_result"
    }
   ],
   "source": [
    "P = lu(A).P"
   ]
  },
  {
   "cell_type": "code",
   "execution_count": 8,
   "id": "1853620f-178b-4fa2-bec4-41d7da7152d0",
   "metadata": {},
   "outputs": [
    {
     "data": {
      "text/plain": [
       "3×1 Matrix{Float64}:\n",
       " -11.0\n",
       "   8.0\n",
       "  -3.0"
      ]
     },
     "execution_count": 8,
     "metadata": {},
     "output_type": "execute_result"
    }
   ],
   "source": [
    "b1= P'* b"
   ]
  },
  {
   "cell_type": "code",
   "execution_count": 9,
   "id": "002be226-3ed4-46e6-96ff-cb35aa3eebe3",
   "metadata": {},
   "outputs": [
    {
     "data": {
      "text/plain": [
       "3×1 Matrix{Float64}:\n",
       " -11.0\n",
       "   0.666666666666667\n",
       "   5.0"
      ]
     },
     "execution_count": 9,
     "metadata": {},
     "output_type": "execute_result"
    }
   ],
   "source": [
    "y= L\\b1"
   ]
  },
  {
   "cell_type": "code",
   "execution_count": 10,
   "id": "7d1c8953-0803-4d42-9954-3dd5998fec82",
   "metadata": {},
   "outputs": [
    {
     "data": {
      "text/plain": [
       "3×1 Matrix{Float64}:\n",
       " 6.8\n",
       " 0.5999999999999996\n",
       " 5.0"
      ]
     },
     "execution_count": 10,
     "metadata": {},
     "output_type": "execute_result"
    }
   ],
   "source": [
    "x = U\\y"
   ]
  },
  {
   "cell_type": "code",
   "execution_count": null,
   "id": "81436f1e-0cfb-4a7d-aa71-ed2d6c97b62d",
   "metadata": {},
   "outputs": [],
   "source": []
  },
  {
   "cell_type": "code",
   "execution_count": null,
   "id": "88acc925-bb51-4957-87c9-718b82146ac0",
   "metadata": {},
   "outputs": [],
   "source": []
  },
  {
   "cell_type": "code",
   "execution_count": null,
   "id": "be4dd597-ce4e-49fb-863f-5422ce268484",
   "metadata": {},
   "outputs": [],
   "source": []
  },
  {
   "cell_type": "code",
   "execution_count": 12,
   "id": "8a045a20-0671-4afc-a4b3-b5c99bc45396",
   "metadata": {},
   "outputs": [
    {
     "data": {
      "text/plain": [
       "3×3 Matrix{Int64}:\n",
       " 0  0  4\n",
       " 1  2  3\n",
       " 1  4  1"
      ]
     },
     "execution_count": 12,
     "metadata": {},
     "output_type": "execute_result"
    }
   ],
   "source": [
    "A1= [0 0 4; 1 2 3; 1 4 1]"
   ]
  },
  {
   "cell_type": "code",
   "execution_count": 18,
   "id": "26bf5a8d-0553-4ade-927f-4b758eb4e843",
   "metadata": {},
   "outputs": [
    {
     "data": {
      "text/plain": [
       "3×1 adjoint(::Matrix{Int64}) with eltype Int64:\n",
       " 12\n",
       " 14\n",
       " 12"
      ]
     },
     "execution_count": 18,
     "metadata": {},
     "output_type": "execute_result"
    }
   ],
   "source": [
    "b2 = [12 14 12]'"
   ]
  },
  {
   "cell_type": "code",
   "execution_count": 14,
   "id": "7f8855fd-8ff1-4de6-b38e-a5c894689743",
   "metadata": {},
   "outputs": [
    {
     "data": {
      "text/plain": [
       "LU{Float64, Matrix{Float64}, Vector{Int64}}\n",
       "L factor:\n",
       "3×3 Matrix{Float64}:\n",
       " 1.0  0.0  0.0\n",
       " 1.0  1.0  0.0\n",
       " 0.0  0.0  1.0\n",
       "U factor:\n",
       "3×3 Matrix{Float64}:\n",
       " 1.0  2.0   3.0\n",
       " 0.0  2.0  -2.0\n",
       " 0.0  0.0   4.0"
      ]
     },
     "execution_count": 14,
     "metadata": {},
     "output_type": "execute_result"
    }
   ],
   "source": [
    "lu(A1)"
   ]
  },
  {
   "cell_type": "code",
   "execution_count": 15,
   "id": "bd7169bf-a32a-4bc9-9247-0bcf8b95ceb8",
   "metadata": {},
   "outputs": [
    {
     "data": {
      "text/plain": [
       "3×3 Matrix{Float64}:\n",
       " 1.0  2.0   3.0\n",
       " 0.0  2.0  -2.0\n",
       " 0.0  0.0   4.0"
      ]
     },
     "execution_count": 15,
     "metadata": {},
     "output_type": "execute_result"
    }
   ],
   "source": [
    "U1 = lu(A1).U"
   ]
  },
  {
   "cell_type": "code",
   "execution_count": 16,
   "id": "3ae73e82-c109-4948-a732-c329a2154ee6",
   "metadata": {},
   "outputs": [
    {
     "data": {
      "text/plain": [
       "3×3 Matrix{Float64}:\n",
       " 1.0  0.0  0.0\n",
       " 1.0  1.0  0.0\n",
       " 0.0  0.0  1.0"
      ]
     },
     "execution_count": 16,
     "metadata": {},
     "output_type": "execute_result"
    }
   ],
   "source": [
    "L2 = lu(A1).L"
   ]
  },
  {
   "cell_type": "code",
   "execution_count": 17,
   "id": "7d3f58c4-4b99-428e-802d-8aff6b0ca30e",
   "metadata": {},
   "outputs": [
    {
     "data": {
      "text/plain": [
       "3×3 Matrix{Float64}:\n",
       " 0.0  1.0  0.0\n",
       " 0.0  0.0  1.0\n",
       " 1.0  0.0  0.0"
      ]
     },
     "execution_count": 17,
     "metadata": {},
     "output_type": "execute_result"
    }
   ],
   "source": [
    "P = lu(A1).P"
   ]
  },
  {
   "cell_type": "code",
   "execution_count": 21,
   "id": "eb1e139b-d1c5-4c25-9891-50e6ab6e96f0",
   "metadata": {},
   "outputs": [
    {
     "data": {
      "text/plain": [
       "3×1 Matrix{Float64}:\n",
       " 14.0\n",
       " -2.0\n",
       " 12.0"
      ]
     },
     "execution_count": 21,
     "metadata": {},
     "output_type": "execute_result"
    }
   ],
   "source": [
    "y1 = L2\\ P* b2"
   ]
  },
  {
   "cell_type": "code",
   "execution_count": 22,
   "id": "732d2917-d89b-48eb-880b-4b10b3453ad3",
   "metadata": {},
   "outputs": [
    {
     "data": {
      "text/plain": [
       "3×1 Matrix{Float64}:\n",
       " 1.0\n",
       " 2.0\n",
       " 3.0"
      ]
     },
     "execution_count": 22,
     "metadata": {},
     "output_type": "execute_result"
    }
   ],
   "source": [
    "x = U1\\ y1"
   ]
  },
  {
   "cell_type": "code",
   "execution_count": null,
   "id": "38a5b422-9915-4e01-ad4b-900d1dde9dcf",
   "metadata": {},
   "outputs": [],
   "source": []
  },
  {
   "cell_type": "code",
   "execution_count": 26,
   "id": "a9a9262d-662c-43ee-9d86-a9bb34d64a3c",
   "metadata": {},
   "outputs": [
    {
     "data": {
      "text/plain": [
       "3×2 Matrix{Int64}:\n",
       " 1  -4\n",
       " 2   3\n",
       " 2   2"
      ]
     },
     "execution_count": 26,
     "metadata": {},
     "output_type": "execute_result"
    }
   ],
   "source": [
    "A3 = [1 -4; 2 3; 2 2]"
   ]
  },
  {
   "cell_type": "code",
   "execution_count": 27,
   "id": "2e50c4b7-3a84-451d-a6cd-120cc2a49dad",
   "metadata": {},
   "outputs": [
    {
     "data": {
      "text/plain": [
       "LinearAlgebra.QRCompactWY{Float64, Matrix{Float64}, Matrix{Float64}}\n",
       "Q factor:\n",
       "3×3 LinearAlgebra.QRCompactWYQ{Float64, Matrix{Float64}, Matrix{Float64}}:\n",
       " -0.333333   0.933333  -0.133333\n",
       " -0.666667  -0.333333  -0.666667\n",
       " -0.666667  -0.133333   0.733333\n",
       "R factor:\n",
       "2×2 Matrix{Float64}:\n",
       " -3.0  -2.0\n",
       "  0.0  -5.0"
      ]
     },
     "execution_count": 27,
     "metadata": {},
     "output_type": "execute_result"
    }
   ],
   "source": [
    "qr(A3)"
   ]
  },
  {
   "cell_type": "code",
   "execution_count": 28,
   "id": "a26e0e3c-8473-4b98-bdb3-3f372e7c322a",
   "metadata": {},
   "outputs": [
    {
     "data": {
      "text/plain": [
       "3×3 LinearAlgebra.QRCompactWYQ{Float64, Matrix{Float64}, Matrix{Float64}}:\n",
       " -0.333333   0.933333  -0.133333\n",
       " -0.666667  -0.333333  -0.666667\n",
       " -0.666667  -0.133333   0.733333"
      ]
     },
     "execution_count": 28,
     "metadata": {},
     "output_type": "execute_result"
    }
   ],
   "source": [
    "Q = qr(A3).Q"
   ]
  },
  {
   "cell_type": "code",
   "execution_count": 29,
   "id": "c86274f6-9cd3-4a8d-bcfa-5bc1b1d23b7f",
   "metadata": {},
   "outputs": [
    {
     "data": {
      "text/plain": [
       "2×2 Matrix{Float64}:\n",
       " -3.0  -2.0\n",
       "  0.0  -5.0"
      ]
     },
     "execution_count": 29,
     "metadata": {},
     "output_type": "execute_result"
    }
   ],
   "source": [
    "R = qr(A3).R"
   ]
  },
  {
   "cell_type": "code",
   "execution_count": 30,
   "id": "89e7b00a-ff4f-4261-b949-d90147528c31",
   "metadata": {},
   "outputs": [
    {
     "data": {
      "text/plain": [
       "3×2 Matrix{Float64}:\n",
       " -0.333333   0.933333\n",
       " -0.666667  -0.333333\n",
       " -0.666667  -0.133333"
      ]
     },
     "execution_count": 30,
     "metadata": {},
     "output_type": "execute_result"
    }
   ],
   "source": [
    "Q1= Matrix(qr(A3).Q)"
   ]
  },
  {
   "cell_type": "code",
   "execution_count": null,
   "id": "485d097f-801b-470d-bebc-6f3829d38cc8",
   "metadata": {},
   "outputs": [],
   "source": []
  },
  {
   "cell_type": "code",
   "execution_count": null,
   "id": "27d6b7ec-77a7-4157-9dda-9b08490c40cb",
   "metadata": {},
   "outputs": [],
   "source": []
  },
  {
   "cell_type": "code",
   "execution_count": null,
   "id": "43ba7ddd-b57e-4e9b-8bf4-288eca4739a0",
   "metadata": {},
   "outputs": [],
   "source": []
  }
 ],
 "metadata": {
  "kernelspec": {
   "display_name": "Julia 1.8.3",
   "language": "julia",
   "name": "julia-1.8"
  },
  "language_info": {
   "file_extension": ".jl",
   "mimetype": "application/julia",
   "name": "julia",
   "version": "1.8.3"
  }
 },
 "nbformat": 4,
 "nbformat_minor": 5
}
