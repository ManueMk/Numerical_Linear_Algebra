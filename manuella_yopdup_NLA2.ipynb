{
 "cells": [
  {
   "cell_type": "markdown",
   "id": "9538ba43-18f5-4a60-86d3-d22729a81782",
   "metadata": {},
   "source": [
    "****\n",
    "\n",
    "# <center> <b> <span style=\"color:orange;\"> African Institute for Mathematical Sciences RWANDA  </span> </b></center>\n",
    "\n",
    "### <center> <b> <span style=\"color:green;\">Assignment 2 : Numerical Linear Algebra (NLA) </span> </b></center>"
   ]
  },
  {
   "cell_type": "markdown",
   "id": "73e24fae-013f-48a4-9ba0-60e60aad5066",
   "metadata": {},
   "source": [
    "### <left> <b> <span style=\"color:blue;\">Presented by : </span> </b></left>  Manuella Kristeva NAKAM YOPDUP"
   ]
  },
  {
   "cell_type": "markdown",
   "id": "b4948d01-7cd7-46bb-a0b6-fd4b43876a5c",
   "metadata": {},
   "source": [
    "<h2>Exercise 1</h2>\n",
    "\n",
    "<p>Write a nonrecursive algorithm in the spirit of row-oriented forward substitution that implements column-oriented forward substitution. Use a single array that contains \\( b \\) initially, stores intermediate results (e.g. \\( \\hat{b}, \\tilde{b} \\)) during the computation, and contains \\( y \\) at the end. Use your algorithm to write a Julia program that solves the system \\( Ax = b \\) where</p>\n",
    "\n",
    "\n",
    "A = \\begin{pmatrix}\n",
    "5 & 0 & 0 \\\\\n",
    "2 & -4 & 0 \\\\\n",
    "1 & 2 & 3\n",
    "\\end{pmatrix}\n",
    "b = \\begin{pmatrix}\n",
    "-15 \\\\\n",
    "-2 \\\\\n",
    "10\n",
    "\\end{pmatrix}\n"
   ]
  },
  {
   "cell_type": "code",
   "execution_count": 17,
   "id": "dd76f526-c23b-4d4d-90a9-552f43504859",
   "metadata": {},
   "outputs": [
    {
     "data": {
      "text/plain": [
       "Col_Oriented_Forward_Substitution (generic function with 1 method)"
      ]
     },
     "execution_count": 17,
     "metadata": {},
     "output_type": "execute_result"
    }
   ],
   "source": [
    "function Col_Oriented_Forward_Substitution(A, b)\n",
    "    n = size(A, 1)\n",
    "    is_leading_zeros = true\n",
    "    \n",
    "    for j in 1:n\n",
    "        if (b[j] == 0) && (is_leading_zeros)\n",
    "            continue\n",
    "        else\n",
    "            b[j] = b[j]/ A[j,j]\n",
    "            for i in (j+1):n\n",
    "                b[i] -= A[i, j] * b[j]  # Update b[i] by adding A[i, j] * x[j]\n",
    "            end\n",
    "        end\n",
    "        #b[j] = b[j] / A[j,j]\n",
    "        is_leading_zeros = false\n",
    "    end\n",
    "    return b\n",
    "end\n",
    "\n"
   ]
  },
  {
   "cell_type": "code",
   "execution_count": 26,
   "id": "fdae3f60-7f29-4e58-9493-0c60c6d18929",
   "metadata": {},
   "outputs": [
    {
     "data": {
      "text/plain": [
       "3×1 adjoint(::Matrix{Int64}) with eltype Int64:\n",
       " -3\n",
       " -1\n",
       "  5"
      ]
     },
     "execution_count": 26,
     "metadata": {},
     "output_type": "execute_result"
    }
   ],
   "source": [
    "A = [5 0 0; 2 -4 0; 1 2 3]\n",
    "b = [-15 -2 10]'\n",
    "\n",
    "Col_Oriented_Forward_Substitution(A, b)"
   ]
  },
  {
   "cell_type": "code",
   "execution_count": 28,
   "id": "ff1d417d-4c69-4c6d-96d5-eec3215f82f9",
   "metadata": {
    "scrolled": true
   },
   "outputs": [
    {
     "data": {
      "text/plain": [
       "3×1 Matrix{Float64}:\n",
       " -3.0\n",
       " -1.0\n",
       "  5.0"
      ]
     },
     "execution_count": 28,
     "metadata": {},
     "output_type": "execute_result"
    }
   ],
   "source": [
    "#Let us verify by using Julia built-in\n",
    "A = [5 0 0; 2 -4 0; 1 2 3]\n",
    "b = [-15 -2 10]'\n",
    "\n",
    "x = A\\b"
   ]
  },
  {
   "cell_type": "code",
   "execution_count": null,
   "id": "0bc922f1-9f38-44ca-8110-8eb5123dc67b",
   "metadata": {},
   "outputs": [],
   "source": []
  },
  {
   "cell_type": "code",
   "execution_count": null,
   "id": "d276ff9a-c960-456b-ae94-4e69702d3c39",
   "metadata": {},
   "outputs": [],
   "source": []
  },
  {
   "cell_type": "markdown",
   "id": "1e0b67a4-2547-4fb4-846e-314949484da4",
   "metadata": {},
   "source": [
    "# Exercise 2\n",
    "\n",
    "<p> Consider a system of \\( n \\) carts connected by springs, as shown in Figure 1. The \\( i \\)-th spring has a stiffness of \\( k_i \\) newtons/meter. Suppose that the carts are subjected to steady forces of \\( f_1, f_2, \\ldots, f_n \\) newtons, respectively, causing displacements of \\( x_1, x_2, \\ldots, x_n \\) meters, respectively. </p>\n",
    "\n",
    "<p> b- Compute the solution in the case \\( n = 20 \\), \\( k_i = 1 \\) newton/meter for all \\( i \\), and \\( f_i = 0 \\) except for \\( f_5 = 1 \\) newton and \\( f_{16} = -1 \\) newton. (Install ToeplitzMatrices to learn an easy way to enter the coefficient matrix in Julia.) </p>\n"
   ]
  },
  {
   "cell_type": "code",
   "execution_count": 54,
   "id": "4887f8eb-d87e-47a7-988f-ce135b7e83bf",
   "metadata": {
    "scrolled": true
   },
   "outputs": [
    {
     "name": "stderr",
     "output_type": "stream",
     "text": [
      "\u001b[32m\u001b[1m    Updating\u001b[22m\u001b[39m registry at `~/.julia/registries/General.toml`\n",
      "\u001b[32m\u001b[1m   Resolving\u001b[22m\u001b[39m package versions...\n",
      "\u001b[32m\u001b[1m   Installed\u001b[22m\u001b[39m IntelOpenMP_jll ── v2024.2.1+0\n",
      "\u001b[32m\u001b[1m   Installed\u001b[22m\u001b[39m oneTBB_jll ─────── v2021.12.0+0\n",
      "\u001b[32m\u001b[1m   Installed\u001b[22m\u001b[39m StaticArraysCore ─ v1.4.3\n",
      "\u001b[32m\u001b[1m   Installed\u001b[22m\u001b[39m FFTW ───────────── v1.8.0\n",
      "\u001b[32m\u001b[1m   Installed\u001b[22m\u001b[39m SpecialFunctions ─ v2.4.0\n",
      "\u001b[32m\u001b[1m   Installed\u001b[22m\u001b[39m DSP ────────────── v0.7.10\n",
      "\u001b[32m\u001b[1m   Installed\u001b[22m\u001b[39m Polynomials ────── v4.0.11\n",
      "\u001b[32m\u001b[1m   Installed\u001b[22m\u001b[39m MKL_jll ────────── v2024.2.0+0\n",
      "\u001b[32m\u001b[1m   Installed\u001b[22m\u001b[39m PDMats ─────────── v0.11.31\n",
      "\u001b[32m\u001b[1m   Installed\u001b[22m\u001b[39m FFTW_jll ───────── v3.3.10+1\n",
      "\u001b[32m\u001b[1m   Installed\u001b[22m\u001b[39m Setfield ───────── v1.1.1\n",
      "\u001b[32m\u001b[1m   Installed\u001b[22m\u001b[39m AbstractFFTs ───── v1.5.0\n",
      "\u001b[32m\u001b[1m   Installed\u001b[22m\u001b[39m OpenSpecFun_jll ── v0.5.5+0\n",
      "\u001b[32m\u001b[1m   Installed\u001b[22m\u001b[39m IterTools ──────── v1.10.0\n",
      "\u001b[32m\u001b[1m   Installed\u001b[22m\u001b[39m Libiconv_jll ───── v1.17.0+1\n",
      "\u001b[32m\u001b[1m   Installed\u001b[22m\u001b[39m ToeplitzMatrices ─ v0.8.4\n",
      "\u001b[32m\u001b[1m   Installed\u001b[22m\u001b[39m FillArrays ─────── v1.13.0\n",
      "\u001b[32m\u001b[1m    Updating\u001b[22m\u001b[39m `~/.julia/environments/v1.8/Project.toml`\n",
      " \u001b[90m [c751599d] \u001b[39m\u001b[92m+ ToeplitzMatrices v0.8.4\u001b[39m\n",
      "\u001b[32m\u001b[1m    Updating\u001b[22m\u001b[39m `~/.julia/environments/v1.8/Manifest.toml`\n",
      " \u001b[90m [621f4979] \u001b[39m\u001b[92m+ AbstractFFTs v1.5.0\u001b[39m\n",
      " \u001b[90m [717857b8] \u001b[39m\u001b[92m+ DSP v0.7.10\u001b[39m\n",
      " \u001b[90m [7a1cc6ca] \u001b[39m\u001b[92m+ FFTW v1.8.0\u001b[39m\n",
      " \u001b[90m [1a297f60] \u001b[39m\u001b[92m+ FillArrays v1.13.0\u001b[39m\n",
      " \u001b[90m [c8e1da08] \u001b[39m\u001b[92m+ IterTools v1.10.0\u001b[39m\n",
      " \u001b[90m [90014a1f] \u001b[39m\u001b[92m+ PDMats v0.11.31\u001b[39m\n",
      " \u001b[90m [f27b6e38] \u001b[39m\u001b[92m+ Polynomials v4.0.11\u001b[39m\n",
      " \u001b[90m [efcf1570] \u001b[39m\u001b[92m+ Setfield v1.1.1\u001b[39m\n",
      " \u001b[90m [276daf66] \u001b[39m\u001b[92m+ SpecialFunctions v2.4.0\u001b[39m\n",
      " \u001b[90m [1e83bf80] \u001b[39m\u001b[92m+ StaticArraysCore v1.4.3\u001b[39m\n",
      " \u001b[90m [c751599d] \u001b[39m\u001b[92m+ ToeplitzMatrices v0.8.4\u001b[39m\n",
      " \u001b[90m [f5851436] \u001b[39m\u001b[92m+ FFTW_jll v3.3.10+1\u001b[39m\n",
      " \u001b[90m [1d5cc7b8] \u001b[39m\u001b[92m+ IntelOpenMP_jll v2024.2.1+0\u001b[39m\n",
      " \u001b[90m [94ce4f54] \u001b[39m\u001b[93m↑ Libiconv_jll v1.17.0+0 ⇒ v1.17.0+1\u001b[39m\n",
      " \u001b[90m [856f044c] \u001b[39m\u001b[92m+ MKL_jll v2024.2.0+0\u001b[39m\n",
      " \u001b[90m [efe28fd5] \u001b[39m\u001b[92m+ OpenSpecFun_jll v0.5.5+0\u001b[39m\n",
      " \u001b[90m [1317d2d5] \u001b[39m\u001b[92m+ oneTBB_jll v2021.12.0+0\u001b[39m\n",
      " \u001b[90m [9fa8497b] \u001b[39m\u001b[92m+ Future\u001b[39m\n",
      " \u001b[90m [4af54fe1] \u001b[39m\u001b[92m+ LazyArtifacts\u001b[39m\n",
      " \u001b[90m [4607b0f0] \u001b[39m\u001b[92m+ SuiteSparse\u001b[39m\n",
      "\u001b[32m\u001b[1mPrecompiling\u001b[22m\u001b[39m project...\n",
      "\u001b[32m  ✓ \u001b[39m\u001b[90mStaticArraysCore\u001b[39m\n",
      "\u001b[32m  ✓ \u001b[39m\u001b[90mIntelOpenMP_jll\u001b[39m\n",
      "\u001b[32m  ✓ \u001b[39m\u001b[90mIterTools\u001b[39m\n",
      "\u001b[32m  ✓ \u001b[39m\u001b[90mPDMats\u001b[39m\n",
      "\u001b[32m  ✓ \u001b[39m\u001b[90moneTBB_jll\u001b[39m\n",
      "\u001b[32m  ✓ \u001b[39m\u001b[90mLibiconv_jll\u001b[39m\n",
      "\u001b[32m  ✓ \u001b[39m\u001b[90mFFTW_jll\u001b[39m\n",
      "\u001b[32m  ✓ \u001b[39m\u001b[90mOpenSpecFun_jll\u001b[39m\n",
      "\u001b[32m  ✓ \u001b[39m\u001b[90mXML2_jll\u001b[39m\n",
      "\u001b[32m  ✓ \u001b[39m\u001b[90mAbstractFFTs\u001b[39m\n",
      "\u001b[32m  ✓ \u001b[39m\u001b[90mSetfield\u001b[39m\n",
      "\u001b[32m  ✓ \u001b[39m\u001b[90mXSLT_jll\u001b[39m\n",
      "\u001b[32m  ✓ \u001b[39m\u001b[90mGettext_jll\u001b[39m\n",
      "\u001b[32m  ✓ \u001b[39m\u001b[90mWayland_jll\u001b[39m\n",
      "\u001b[32m  ✓ \u001b[39m\u001b[90mFillArrays\u001b[39m\n",
      "\u001b[32m  ✓ \u001b[39m\u001b[90mXorg_libxcb_jll\u001b[39m\n",
      "\u001b[32m  ✓ \u001b[39m\u001b[90mGlib_jll\u001b[39m\n",
      "\u001b[32m  ✓ \u001b[39m\u001b[90mXorg_xcb_util_jll\u001b[39m\n",
      "\u001b[32m  ✓ \u001b[39m\u001b[90mXorg_libX11_jll\u001b[39m\n",
      "\u001b[32m  ✓ \u001b[39m\u001b[90mXorg_xcb_util_image_jll\u001b[39m\n",
      "\u001b[32m  ✓ \u001b[39m\u001b[90mXorg_xcb_util_keysyms_jll\u001b[39m\n",
      "\u001b[32m  ✓ \u001b[39m\u001b[90mXorg_xcb_util_renderutil_jll\u001b[39m\n",
      "\u001b[32m  ✓ \u001b[39m\u001b[90mXorg_xcb_util_wm_jll\u001b[39m\n",
      "\u001b[32m  ✓ \u001b[39m\u001b[90mXorg_libXrender_jll\u001b[39m\n",
      "\u001b[32m  ✓ \u001b[39m\u001b[90mXorg_libXext_jll\u001b[39m\n",
      "\u001b[32m  ✓ \u001b[39m\u001b[90mXorg_libXfixes_jll\u001b[39m\n",
      "\u001b[32m  ✓ \u001b[39m\u001b[90mXorg_libxkbfile_jll\u001b[39m\n",
      "\u001b[32m  ✓ \u001b[39m\u001b[90mSpecialFunctions\u001b[39m\n",
      "\u001b[32m  ✓ \u001b[39m\u001b[90mXorg_xcb_util_cursor_jll\u001b[39m\n",
      "\u001b[32m  ✓ \u001b[39m\u001b[90mLibglvnd_jll\u001b[39m\n",
      "\u001b[32m  ✓ \u001b[39m\u001b[90mXorg_libXinerama_jll\u001b[39m\n",
      "\u001b[32m  ✓ \u001b[39m\u001b[90mXorg_libXrandr_jll\u001b[39m\n",
      "\u001b[32m  ✓ \u001b[39m\u001b[90mCairo_jll\u001b[39m\n",
      "\u001b[32m  ✓ \u001b[39m\u001b[90mXorg_libXi_jll\u001b[39m\n",
      "\u001b[32m  ✓ \u001b[39m\u001b[90mXorg_libXcursor_jll\u001b[39m\n",
      "\u001b[32m  ✓ \u001b[39m\u001b[90mXorg_xkbcomp_jll\u001b[39m\n",
      "\u001b[32m  ✓ \u001b[39m\u001b[90mHarfBuzz_jll\u001b[39m\n",
      "\u001b[32m  ✓ \u001b[39m\u001b[90mXorg_xkeyboard_config_jll\u001b[39m\n",
      "\u001b[32m  ✓ \u001b[39m\u001b[90mMKL_jll\u001b[39m\n",
      "\u001b[32m  ✓ \u001b[39m\u001b[90mlibass_jll\u001b[39m\n",
      "\u001b[32m  ✓ \u001b[39m\u001b[90mPango_jll\u001b[39m\n",
      "\u001b[32m  ✓ \u001b[39m\u001b[90mxkbcommon_jll\u001b[39m\n",
      "\u001b[32m  ✓ \u001b[39m\u001b[90mFFMPEG_jll\u001b[39m\n",
      "\u001b[32m  ✓ \u001b[39m\u001b[90mVulkan_Loader_jll\u001b[39m\n",
      "\u001b[32m  ✓ \u001b[39m\u001b[90mlibdecor_jll\u001b[39m\n",
      "\u001b[32m  ✓ \u001b[39m\u001b[90mFFMPEG\u001b[39m\n",
      "\u001b[32m  ✓ \u001b[39m\u001b[90mQt6Base_jll\u001b[39m\n",
      "\u001b[32m  ✓ \u001b[39m\u001b[90mGLFW_jll\u001b[39m\n",
      "\u001b[32m  ✓ \u001b[39m\u001b[90mQt6ShaderTools_jll\u001b[39m\n",
      "\u001b[32m  ✓ \u001b[39m\u001b[90mGR_jll\u001b[39m\n",
      "\u001b[32m  ✓ \u001b[39m\u001b[90mQt6Declarative_jll\u001b[39m\n",
      "\u001b[32m  ✓ \u001b[39m\u001b[90mQt6Wayland_jll\u001b[39m\n",
      "\u001b[32m  ✓ \u001b[39m\u001b[90mFFTW\u001b[39m\n",
      "\u001b[32m  ✓ \u001b[39m\u001b[90mGR\u001b[39m\n",
      "\u001b[32m  ✓ \u001b[39m\u001b[90mPolynomials\u001b[39m\n",
      "\u001b[32m  ✓ \u001b[39m\u001b[90mDSP\u001b[39m\n",
      "\u001b[32m  ✓ \u001b[39mToeplitzMatrices\n",
      "\u001b[32m  ✓ \u001b[39mPlots\n",
      "  58 dependencies successfully precompiled in 107 seconds. 120 already precompiled.\n"
     ]
    }
   ],
   "source": [
    "using Pkg\n",
    "Pkg.add(\"ToeplitzMatrices\")"
   ]
  },
  {
   "cell_type": "code",
   "execution_count": 16,
   "id": "50bcb067-6882-4374-92e1-3cfbb27097d8",
   "metadata": {},
   "outputs": [
    {
     "data": {
      "text/plain": [
       "20×20 SymTridiagonal{Float64, Vector{Float64}}:\n",
       "  2.0  -1.0    ⋅     ⋅     ⋅     ⋅   …    ⋅     ⋅     ⋅     ⋅     ⋅     ⋅ \n",
       " -1.0   2.0  -1.0    ⋅     ⋅     ⋅        ⋅     ⋅     ⋅     ⋅     ⋅     ⋅ \n",
       "   ⋅   -1.0   2.0  -1.0    ⋅     ⋅        ⋅     ⋅     ⋅     ⋅     ⋅     ⋅ \n",
       "   ⋅     ⋅   -1.0   2.0  -1.0    ⋅        ⋅     ⋅     ⋅     ⋅     ⋅     ⋅ \n",
       "   ⋅     ⋅     ⋅   -1.0   2.0  -1.0       ⋅     ⋅     ⋅     ⋅     ⋅     ⋅ \n",
       "   ⋅     ⋅     ⋅     ⋅   -1.0   2.0  …    ⋅     ⋅     ⋅     ⋅     ⋅     ⋅ \n",
       "   ⋅     ⋅     ⋅     ⋅     ⋅   -1.0       ⋅     ⋅     ⋅     ⋅     ⋅     ⋅ \n",
       "   ⋅     ⋅     ⋅     ⋅     ⋅     ⋅        ⋅     ⋅     ⋅     ⋅     ⋅     ⋅ \n",
       "   ⋅     ⋅     ⋅     ⋅     ⋅     ⋅        ⋅     ⋅     ⋅     ⋅     ⋅     ⋅ \n",
       "   ⋅     ⋅     ⋅     ⋅     ⋅     ⋅        ⋅     ⋅     ⋅     ⋅     ⋅     ⋅ \n",
       "   ⋅     ⋅     ⋅     ⋅     ⋅     ⋅   …    ⋅     ⋅     ⋅     ⋅     ⋅     ⋅ \n",
       "   ⋅     ⋅     ⋅     ⋅     ⋅     ⋅        ⋅     ⋅     ⋅     ⋅     ⋅     ⋅ \n",
       "   ⋅     ⋅     ⋅     ⋅     ⋅     ⋅        ⋅     ⋅     ⋅     ⋅     ⋅     ⋅ \n",
       "   ⋅     ⋅     ⋅     ⋅     ⋅     ⋅      -1.0    ⋅     ⋅     ⋅     ⋅     ⋅ \n",
       "   ⋅     ⋅     ⋅     ⋅     ⋅     ⋅       2.0  -1.0    ⋅     ⋅     ⋅     ⋅ \n",
       "   ⋅     ⋅     ⋅     ⋅     ⋅     ⋅   …  -1.0   2.0  -1.0    ⋅     ⋅     ⋅ \n",
       "   ⋅     ⋅     ⋅     ⋅     ⋅     ⋅        ⋅   -1.0   2.0  -1.0    ⋅     ⋅ \n",
       "   ⋅     ⋅     ⋅     ⋅     ⋅     ⋅        ⋅     ⋅   -1.0   2.0  -1.0    ⋅ \n",
       "   ⋅     ⋅     ⋅     ⋅     ⋅     ⋅        ⋅     ⋅     ⋅   -1.0   2.0  -1.0\n",
       "   ⋅     ⋅     ⋅     ⋅     ⋅     ⋅        ⋅     ⋅     ⋅     ⋅   -1.0   2.0"
      ]
     },
     "metadata": {},
     "output_type": "display_data"
    },
    {
     "name": "stdout",
     "output_type": "stream",
     "text": [
      "\n",
      "La solution est : \n",
      "\n"
     ]
    },
    {
     "data": {
      "text/plain": [
       "20-element Vector{Float64}:\n",
       "  0.5238095238095241\n",
       "  1.0476190476190481\n",
       "  1.5714285714285723\n",
       "  2.0952380952380967\n",
       "  2.619047619047621\n",
       "  2.1428571428571446\n",
       "  1.6666666666666683\n",
       "  1.1904761904761925\n",
       "  0.7142857142857164\n",
       "  0.23809523809524052\n",
       " -0.23809523809523542\n",
       " -0.7142857142857113\n",
       " -1.1904761904761871\n",
       " -1.666666666666663\n",
       " -2.1428571428571392\n",
       " -2.619047619047616\n",
       " -2.0952380952380927\n",
       " -1.5714285714285694\n",
       " -1.0476190476190461\n",
       " -0.5238095238095231"
      ]
     },
     "metadata": {},
     "output_type": "display_data"
    }
   ],
   "source": [
    "using LinearAlgebra, ToeplitzMatrices\n",
    "\n",
    "# Define parameters\n",
    "n = 20\n",
    "k = 1.0\n",
    "f = zeros(n)\n",
    "f[5] = 1.0\n",
    "f[16] = -1.0\n",
    "\n",
    "# Construct the tridiagonal matrix A\n",
    "main_diag = fill(2 * k, n)\n",
    "off_diag = fill(-k, n-1)\n",
    "A = SymTridiagonal(main_diag, off_diag)\n",
    "display(A)\n",
    "# Solve the system Ax = b\n",
    "x = A \\ f\n",
    "\n",
    "println(\"\\nLa solution est : \\n\")\n",
    "display(x)\n"
   ]
  },
  {
   "cell_type": "markdown",
   "id": "dc097889-6bc1-4b41-a95b-d28223797ec9",
   "metadata": {},
   "source": [
    "# Exercise 3"
   ]
  },
  {
   "cell_type": "markdown",
   "id": "72a2fadc-bd26-46a7-b993-14511690fdec",
   "metadata": {},
   "source": [
    "<p> d- Derive the linear system \\( Ax = b \\) for the circuit in Figure 2. Show that \\( A \\) is a submatrix of the matrix \\( H \\) from part (c). Deduce that \\( A \\) is positive definite. Use Julia to find a Cholesky factor of \\( A \\).</p>"
   ]
  },
  {
   "cell_type": "code",
   "execution_count": 85,
   "id": "63e4f35a-cd4a-4756-8aa3-be233831d558",
   "metadata": {},
   "outputs": [
    {
     "name": "stdout",
     "output_type": "stream",
     "text": [
      "A is positive definite: isposdef\n",
      "Cholesky factor L:\n",
      "\n"
     ]
    },
    {
     "data": {
      "text/plain": [
       "6×6 LowerTriangular{Float64, Matrix{Float64}}:\n",
       "  1.41421     ⋅          ⋅          ⋅           ⋅          ⋅ \n",
       " -0.707107   1.22474     ⋅          ⋅           ⋅          ⋅ \n",
       " -0.707107  -0.408248   1.52753     ⋅           ⋅          ⋅ \n",
       "  0.0       -0.408248  -0.24004    1.66605      ⋅          ⋅ \n",
       "  0.0        0.0       -0.327327  -0.0471604   0.943734    ⋅ \n",
       "  0.0        0.0        0.0       -0.600223   -0.0299944  0.79927"
      ]
     },
     "metadata": {},
     "output_type": "display_data"
    }
   ],
   "source": [
    "using LinearAlgebra\n",
    "\n",
    "# Define the matrix A (example)\n",
    "A = [ 2 -1  -1 0  0  0;\n",
    "     -1  2 0 -1/2 0  0;\n",
    "      -1 0  3 -1/5  -1/2 0;\n",
    "     0  -1/2 -1/5  3 0  -1;\n",
    "      0 0  -1/2 0  1 0;\n",
    "      0  0 0  -1 0  1]\n",
    "\n",
    "# Check if A is positive definite\n",
    "posdef = isposdef(A)\n",
    "\n",
    "# Calculate the Cholesky factor\n",
    "L = cholesky(A).L\n",
    "\n",
    "println(\"A is positive definite: $isposdef\")\n",
    "println(\"Cholesky factor L:\\n\")\n",
    "\n",
    "display(L)\n"
   ]
  },
  {
   "cell_type": "code",
   "execution_count": null,
   "id": "b186b1d5-bf57-4bc9-9fe9-942ff1b192aa",
   "metadata": {},
   "outputs": [],
   "source": []
  },
  {
   "cell_type": "markdown",
   "id": "58715b30-8c81-423d-aced-81cdfe035c10",
   "metadata": {},
   "source": [
    "# Exercise 4\n",
    "\n",
    "<p> Write your own Julia program that solves positive definite systems \\( Ax = b \\) by calling subroutines to </p>\n",
    "\n",
    "-  calculate the Cholesky factor,\n",
    "-  perform forward substitution,\n",
    "-  perform back substitution.\n",
    "\n",
    "Try out your program on the following problems."
   ]
  },
  {
   "cell_type": "code",
   "execution_count": 6,
   "id": "d3a317dd-7b18-441f-a413-72d6e1eac4b7",
   "metadata": {},
   "outputs": [
    {
     "data": {
      "text/plain": [
       "solve_positive_definite_system (generic function with 1 method)"
      ]
     },
     "execution_count": 6,
     "metadata": {},
     "output_type": "execute_result"
    }
   ],
   "source": [
    "using LinearAlgebra\n",
    "\n",
    "function cholesky_factorization(A)\n",
    "    n = size(A, 1)\n",
    "    L = zeros(n, n)\n",
    "\n",
    "    for j = 1:n\n",
    "        L[j, j] = sqrt(A[j, j] - sum(L[j, 1:j-1].*L[j, 1:j-1]))\n",
    "        for i = j+1:n\n",
    "            L[i, j] = (A[i, j] - sum(L[i, 1:j-1] .* L[j, 1:j-1])) / L[j, j]\n",
    "        end\n",
    "    end\n",
    "    return L\n",
    "end\n",
    "\n",
    "function forward_substitution(L, b)\n",
    "    n = size(L, 1)\n",
    "    y = zeros(n)\n",
    "    for i = 1:n\n",
    "        y[i] = (b[i] - sum(L[i, 1:i-1] .* y[1:i-1])) / L[i, i]\n",
    "    end\n",
    "    return y\n",
    "end\n",
    "\n",
    "function back_substitution(U, y)\n",
    "    n = size(U, 1)\n",
    "    x = zeros(n)\n",
    "    for i = n:-1:1\n",
    "        x[i] = (y[i] - sum(U[i, i+1:n] .* x[i+1:n])) / U[i, i]\n",
    "    end\n",
    "    return x\n",
    "end\n",
    "\n",
    "function solve_positive_definite_system(A, b)\n",
    "    println(\"The cholesky factor is:\")\n",
    "    L = cholesky_factorization(A)\n",
    "    display(L)\n",
    "    println(\"The  y of L*y = b is:\")\n",
    "    y = forward_substitution(L, b)\n",
    "    display(y)\n",
    "    println(\"The solution x is:\")\n",
    "    x = back_substitution(L', y)  # L' is the transpose of L\n",
    "    return x\n",
    "end\n",
    "\n"
   ]
  },
  {
   "cell_type": "code",
   "execution_count": 7,
   "id": "76ea091c-e0c3-4ec7-bcde-dbbe8f1cf4ad",
   "metadata": {},
   "outputs": [
    {
     "name": "stdout",
     "output_type": "stream",
     "text": [
      "The cholesky factor is:\n"
     ]
    },
    {
     "data": {
      "text/plain": [
       "3×3 Matrix{Float64}:\n",
       "  6.0   0.0  0.0\n",
       " -5.0   3.0  0.0\n",
       "  4.0  -2.0  1.0"
      ]
     },
     "metadata": {},
     "output_type": "display_data"
    },
    {
     "name": "stdout",
     "output_type": "stream",
     "text": [
      "The  y of L*y = b is:\n"
     ]
    },
    {
     "data": {
      "text/plain": [
       "3-element Vector{Float64}:\n",
       " 0.0\n",
       " 4.0\n",
       " 1.0"
      ]
     },
     "metadata": {},
     "output_type": "display_data"
    },
    {
     "name": "stdout",
     "output_type": "stream",
     "text": [
      "The solution x is:\n"
     ]
    },
    {
     "data": {
      "text/plain": [
       "3-element Vector{Float64}:\n",
       " 1.0\n",
       " 2.0\n",
       " 1.0"
      ]
     },
     "execution_count": 7,
     "metadata": {},
     "output_type": "execute_result"
    }
   ],
   "source": [
    "# Example usage:\n",
    "A1 = [36 -30 24; -30 34 -26; 24 -26 21]\n",
    "b1 = [0; 12; -7]\n",
    "\n",
    "\n",
    "x1 = solve_positive_definite_system(A1, b1)\n",
    "\n",
    "\n",
    "\n"
   ]
  },
  {
   "cell_type": "code",
   "execution_count": 8,
   "id": "e99c3837-831e-46b7-96ab-48ef98655f0a",
   "metadata": {},
   "outputs": [
    {
     "name": "stdout",
     "output_type": "stream",
     "text": [
      "The cholesky factor is:\n"
     ]
    },
    {
     "data": {
      "text/plain": [
       "5×5 Matrix{Float64}:\n",
       " 1.0  0.0  0.0  0.0  0.0\n",
       " 1.0  1.0  0.0  0.0  0.0\n",
       " 1.0  1.0  1.0  0.0  0.0\n",
       " 1.0  1.0  1.0  1.0  0.0\n",
       " 1.0  1.0  1.0  1.0  1.0"
      ]
     },
     "metadata": {},
     "output_type": "display_data"
    },
    {
     "name": "stdout",
     "output_type": "stream",
     "text": [
      "The  y of L*y = b is:\n"
     ]
    },
    {
     "data": {
      "text/plain": [
       "5-element Vector{Float64}:\n",
       " 5.0\n",
       " 4.0\n",
       " 3.0\n",
       " 2.0\n",
       " 1.0"
      ]
     },
     "metadata": {},
     "output_type": "display_data"
    },
    {
     "name": "stdout",
     "output_type": "stream",
     "text": [
      "The solution x is:\n"
     ]
    },
    {
     "data": {
      "text/plain": [
       "5-element Vector{Float64}:\n",
       " 1.0\n",
       " 1.0\n",
       " 1.0\n",
       " 1.0\n",
       " 1.0"
      ]
     },
     "execution_count": 8,
     "metadata": {},
     "output_type": "execute_result"
    }
   ],
   "source": [
    "A2 = [1 1 1 1 1; 1 2 2 2 2; 1 2 3 3 3; 1 2 3 4 4; 1 2 3 4 5]\n",
    "b2 = [5; 9; 12; 14; 15]\n",
    "\n",
    "x2 = solve_positive_definite_system(A2, b2)"
   ]
  },
  {
   "cell_type": "code",
   "execution_count": null,
   "id": "280df7a3-47c4-46b3-8452-067ea5570689",
   "metadata": {},
   "outputs": [],
   "source": []
  },
  {
   "cell_type": "markdown",
   "id": "9a440fa5-dcd0-4678-8d4b-90976e4aeaae",
   "metadata": {},
   "source": [
    "# Exercise 5"
   ]
  },
  {
   "cell_type": "code",
   "execution_count": 47,
   "id": "1f68a503-7975-4280-aa20-03655194815c",
   "metadata": {},
   "outputs": [
    {
     "name": "stderr",
     "output_type": "stream",
     "text": [
      "\u001b[32m\u001b[1m    Updating\u001b[22m\u001b[39m registry at `~/.julia/registries/General.toml`\n",
      "\u001b[32m\u001b[1m   Resolving\u001b[22m\u001b[39m package versions...\n",
      "\u001b[32m\u001b[1m   Installed\u001b[22m\u001b[39m DiffRules ──────────── v1.15.1\n",
      "\u001b[32m\u001b[1m   Installed\u001b[22m\u001b[39m StaticArrays ───────── v1.9.8\n",
      "\u001b[32m\u001b[1m   Installed\u001b[22m\u001b[39m CommonSubexpressions ─ v0.3.1\n",
      "\u001b[32m\u001b[1m   Installed\u001b[22m\u001b[39m DiffResults ────────── v1.1.0\n",
      "\u001b[32m\u001b[1m   Installed\u001b[22m\u001b[39m ForwardDiff ────────── v0.10.36\n",
      "\u001b[32m\u001b[1m    Updating\u001b[22m\u001b[39m `~/.julia/environments/v1.8/Project.toml`\n",
      " \u001b[90m [f6369f11] \u001b[39m\u001b[92m+ ForwardDiff v0.10.36\u001b[39m\n",
      "\u001b[32m\u001b[1m    Updating\u001b[22m\u001b[39m `~/.julia/environments/v1.8/Manifest.toml`\n",
      " \u001b[90m [bbf7d656] \u001b[39m\u001b[92m+ CommonSubexpressions v0.3.1\u001b[39m\n",
      " \u001b[90m [163ba53b] \u001b[39m\u001b[92m+ DiffResults v1.1.0\u001b[39m\n",
      " \u001b[90m [b552c78f] \u001b[39m\u001b[92m+ DiffRules v1.15.1\u001b[39m\n",
      " \u001b[90m [f6369f11] \u001b[39m\u001b[92m+ ForwardDiff v0.10.36\u001b[39m\n",
      " \u001b[90m [90137ffa] \u001b[39m\u001b[92m+ StaticArrays v1.9.8\u001b[39m\n",
      "\u001b[32m\u001b[1mPrecompiling\u001b[22m\u001b[39m project...\n",
      "\u001b[32m  ✓ \u001b[39m\u001b[90mDiffResults\u001b[39m\n",
      "\u001b[32m  ✓ \u001b[39m\u001b[90mCommonSubexpressions\u001b[39m\n",
      "\u001b[32m  ✓ \u001b[39m\u001b[90mDiffRules\u001b[39m\n",
      "\u001b[32m  ✓ \u001b[39m\u001b[90mStaticArrays\u001b[39m\n",
      "\u001b[32m  ✓ \u001b[39mForwardDiff\n",
      "  5 dependencies successfully precompiled in 11 seconds. 178 already precompiled.\n"
     ]
    }
   ],
   "source": [
    "import Pkg \n",
    "Pkg.add(\"ForwardDiff\")"
   ]
  },
  {
   "cell_type": "code",
   "execution_count": 87,
   "id": "8b1f64b7-0b7a-493b-b6fc-f3ed33d15f06",
   "metadata": {},
   "outputs": [
    {
     "data": {
      "image/svg+xml": [
       "<?xml version=\"1.0\" encoding=\"utf-8\"?>\n",
       "<svg xmlns=\"http://www.w3.org/2000/svg\" xmlns:xlink=\"http://www.w3.org/1999/xlink\" width=\"600\" height=\"400\" viewBox=\"0 0 2400 1600\">\n",
       "<defs>\n",
       "  <clipPath id=\"clip840\">\n",
       "    <rect x=\"0\" y=\"0\" width=\"2400\" height=\"1600\"/>\n",
       "  </clipPath>\n",
       "</defs>\n",
       "<path clip-path=\"url(#clip840)\" d=\"M0 1600 L2400 1600 L2400 0 L0 0  Z\" fill=\"#ffffff\" fill-rule=\"evenodd\" fill-opacity=\"1\"/>\n",
       "<defs>\n",
       "  <clipPath id=\"clip841\">\n",
       "    <rect x=\"480\" y=\"0\" width=\"1681\" height=\"1600\"/>\n",
       "  </clipPath>\n",
       "</defs>\n",
       "<path clip-path=\"url(#clip840)\" d=\"M390.655 1423.18 L2352.76 1423.18 L2352.76 123.472 L390.655 123.472  Z\" fill=\"#ffffff\" fill-rule=\"evenodd\" fill-opacity=\"1\"/>\n",
       "<defs>\n",
       "  <clipPath id=\"clip842\">\n",
       "    <rect x=\"390\" y=\"123\" width=\"1963\" height=\"1301\"/>\n",
       "  </clipPath>\n",
       "</defs>\n",
       "<polyline clip-path=\"url(#clip842)\" style=\"stroke:#000000; stroke-linecap:round; stroke-linejoin:round; stroke-width:2; stroke-opacity:0.1; fill:none\" points=\"446.186,1423.18 446.186,123.472 \"/>\n",
       "<polyline clip-path=\"url(#clip842)\" style=\"stroke:#000000; stroke-linecap:round; stroke-linejoin:round; stroke-width:2; stroke-opacity:0.1; fill:none\" points=\"908.946,1423.18 908.946,123.472 \"/>\n",
       "<polyline clip-path=\"url(#clip842)\" style=\"stroke:#000000; stroke-linecap:round; stroke-linejoin:round; stroke-width:2; stroke-opacity:0.1; fill:none\" points=\"1371.71,1423.18 1371.71,123.472 \"/>\n",
       "<polyline clip-path=\"url(#clip842)\" style=\"stroke:#000000; stroke-linecap:round; stroke-linejoin:round; stroke-width:2; stroke-opacity:0.1; fill:none\" points=\"1834.47,1423.18 1834.47,123.472 \"/>\n",
       "<polyline clip-path=\"url(#clip842)\" style=\"stroke:#000000; stroke-linecap:round; stroke-linejoin:round; stroke-width:2; stroke-opacity:0.1; fill:none\" points=\"2297.22,1423.18 2297.22,123.472 \"/>\n",
       "<polyline clip-path=\"url(#clip842)\" style=\"stroke:#000000; stroke-linecap:round; stroke-linejoin:round; stroke-width:2; stroke-opacity:0.1; fill:none\" points=\"390.655,1386.4 2352.76,1386.4 \"/>\n",
       "<polyline clip-path=\"url(#clip842)\" style=\"stroke:#000000; stroke-linecap:round; stroke-linejoin:round; stroke-width:2; stroke-opacity:0.1; fill:none\" points=\"390.655,1119.02 2352.76,1119.02 \"/>\n",
       "<polyline clip-path=\"url(#clip842)\" style=\"stroke:#000000; stroke-linecap:round; stroke-linejoin:round; stroke-width:2; stroke-opacity:0.1; fill:none\" points=\"390.655,851.643 2352.76,851.643 \"/>\n",
       "<polyline clip-path=\"url(#clip842)\" style=\"stroke:#000000; stroke-linecap:round; stroke-linejoin:round; stroke-width:2; stroke-opacity:0.1; fill:none\" points=\"390.655,584.267 2352.76,584.267 \"/>\n",
       "<polyline clip-path=\"url(#clip842)\" style=\"stroke:#000000; stroke-linecap:round; stroke-linejoin:round; stroke-width:2; stroke-opacity:0.1; fill:none\" points=\"390.655,316.891 2352.76,316.891 \"/>\n",
       "<polyline clip-path=\"url(#clip840)\" style=\"stroke:#000000; stroke-linecap:round; stroke-linejoin:round; stroke-width:4; stroke-opacity:1; fill:none\" points=\"390.655,1423.18 2352.76,1423.18 \"/>\n",
       "<polyline clip-path=\"url(#clip840)\" style=\"stroke:#000000; stroke-linecap:round; stroke-linejoin:round; stroke-width:4; stroke-opacity:1; fill:none\" points=\"446.186,1423.18 446.186,1404.28 \"/>\n",
       "<polyline clip-path=\"url(#clip840)\" style=\"stroke:#000000; stroke-linecap:round; stroke-linejoin:round; stroke-width:4; stroke-opacity:1; fill:none\" points=\"908.946,1423.18 908.946,1404.28 \"/>\n",
       "<polyline clip-path=\"url(#clip840)\" style=\"stroke:#000000; stroke-linecap:round; stroke-linejoin:round; stroke-width:4; stroke-opacity:1; fill:none\" points=\"1371.71,1423.18 1371.71,1404.28 \"/>\n",
       "<polyline clip-path=\"url(#clip840)\" style=\"stroke:#000000; stroke-linecap:round; stroke-linejoin:round; stroke-width:4; stroke-opacity:1; fill:none\" points=\"1834.47,1423.18 1834.47,1404.28 \"/>\n",
       "<polyline clip-path=\"url(#clip840)\" style=\"stroke:#000000; stroke-linecap:round; stroke-linejoin:round; stroke-width:4; stroke-opacity:1; fill:none\" points=\"2297.22,1423.18 2297.22,1404.28 \"/>\n",
       "<path clip-path=\"url(#clip840)\" d=\"M408.49 1454.1 Q404.879 1454.1 403.05 1457.66 Q401.245 1461.2 401.245 1468.33 Q401.245 1475.44 403.05 1479.01 Q404.879 1482.55 408.49 1482.55 Q412.124 1482.55 413.93 1479.01 Q415.758 1475.44 415.758 1468.33 Q415.758 1461.2 413.93 1457.66 Q412.124 1454.1 408.49 1454.1 M408.49 1450.39 Q414.3 1450.39 417.356 1455 Q420.434 1459.58 420.434 1468.33 Q420.434 1477.06 417.356 1481.67 Q414.3 1486.25 408.49 1486.25 Q402.68 1486.25 399.601 1481.67 Q396.545 1477.06 396.545 1468.33 Q396.545 1459.58 399.601 1455 Q402.68 1450.39 408.49 1450.39 Z\" fill=\"#000000\" fill-rule=\"nonzero\" fill-opacity=\"1\" /><path clip-path=\"url(#clip840)\" d=\"M428.652 1479.7 L433.536 1479.7 L433.536 1485.58 L428.652 1485.58 L428.652 1479.7 Z\" fill=\"#000000\" fill-rule=\"nonzero\" fill-opacity=\"1\" /><path clip-path=\"url(#clip840)\" d=\"M453.721 1454.1 Q450.11 1454.1 448.281 1457.66 Q446.476 1461.2 446.476 1468.33 Q446.476 1475.44 448.281 1479.01 Q450.11 1482.55 453.721 1482.55 Q457.355 1482.55 459.161 1479.01 Q460.99 1475.44 460.99 1468.33 Q460.99 1461.2 459.161 1457.66 Q457.355 1454.1 453.721 1454.1 M453.721 1450.39 Q459.531 1450.39 462.587 1455 Q465.665 1459.58 465.665 1468.33 Q465.665 1477.06 462.587 1481.67 Q459.531 1486.25 453.721 1486.25 Q447.911 1486.25 444.832 1481.67 Q441.777 1477.06 441.777 1468.33 Q441.777 1459.58 444.832 1455 Q447.911 1450.39 453.721 1450.39 Z\" fill=\"#000000\" fill-rule=\"nonzero\" fill-opacity=\"1\" /><path clip-path=\"url(#clip840)\" d=\"M483.883 1454.1 Q480.272 1454.1 478.443 1457.66 Q476.638 1461.2 476.638 1468.33 Q476.638 1475.44 478.443 1479.01 Q480.272 1482.55 483.883 1482.55 Q487.517 1482.55 489.323 1479.01 Q491.151 1475.44 491.151 1468.33 Q491.151 1461.2 489.323 1457.66 Q487.517 1454.1 483.883 1454.1 M483.883 1450.39 Q489.693 1450.39 492.749 1455 Q495.827 1459.58 495.827 1468.33 Q495.827 1477.06 492.749 1481.67 Q489.693 1486.25 483.883 1486.25 Q478.073 1486.25 474.994 1481.67 Q471.939 1477.06 471.939 1468.33 Q471.939 1459.58 474.994 1455 Q478.073 1450.39 483.883 1450.39 Z\" fill=\"#000000\" fill-rule=\"nonzero\" fill-opacity=\"1\" /><path clip-path=\"url(#clip840)\" d=\"M871.747 1454.1 Q868.136 1454.1 866.307 1457.66 Q864.502 1461.2 864.502 1468.33 Q864.502 1475.44 866.307 1479.01 Q868.136 1482.55 871.747 1482.55 Q875.381 1482.55 877.187 1479.01 Q879.016 1475.44 879.016 1468.33 Q879.016 1461.2 877.187 1457.66 Q875.381 1454.1 871.747 1454.1 M871.747 1450.39 Q877.557 1450.39 880.613 1455 Q883.692 1459.58 883.692 1468.33 Q883.692 1477.06 880.613 1481.67 Q877.557 1486.25 871.747 1486.25 Q865.937 1486.25 862.858 1481.67 Q859.803 1477.06 859.803 1468.33 Q859.803 1459.58 862.858 1455 Q865.937 1450.39 871.747 1450.39 Z\" fill=\"#000000\" fill-rule=\"nonzero\" fill-opacity=\"1\" /><path clip-path=\"url(#clip840)\" d=\"M891.909 1479.7 L896.793 1479.7 L896.793 1485.58 L891.909 1485.58 L891.909 1479.7 Z\" fill=\"#000000\" fill-rule=\"nonzero\" fill-opacity=\"1\" /><path clip-path=\"url(#clip840)\" d=\"M911.006 1481.64 L927.326 1481.64 L927.326 1485.58 L905.381 1485.58 L905.381 1481.64 Q908.043 1478.89 912.627 1474.26 Q917.233 1469.61 918.414 1468.27 Q920.659 1465.74 921.539 1464.01 Q922.441 1462.25 922.441 1460.56 Q922.441 1457.8 920.497 1456.07 Q918.576 1454.33 915.474 1454.33 Q913.275 1454.33 910.821 1455.09 Q908.39 1455.86 905.613 1457.41 L905.613 1452.69 Q908.437 1451.55 910.89 1450.97 Q913.344 1450.39 915.381 1450.39 Q920.752 1450.39 923.946 1453.08 Q927.14 1455.77 927.14 1460.26 Q927.14 1462.39 926.33 1464.31 Q925.543 1466.2 923.437 1468.8 Q922.858 1469.47 919.756 1472.69 Q916.654 1475.88 911.006 1481.64 Z\" fill=\"#000000\" fill-rule=\"nonzero\" fill-opacity=\"1\" /><path clip-path=\"url(#clip840)\" d=\"M937.187 1451.02 L955.543 1451.02 L955.543 1454.96 L941.469 1454.96 L941.469 1463.43 Q942.487 1463.08 943.506 1462.92 Q944.525 1462.73 945.543 1462.73 Q951.33 1462.73 954.71 1465.9 Q958.089 1469.08 958.089 1474.49 Q958.089 1480.07 954.617 1483.17 Q951.145 1486.25 944.825 1486.25 Q942.65 1486.25 940.381 1485.88 Q938.136 1485.51 935.728 1484.77 L935.728 1480.07 Q937.812 1481.2 940.034 1481.76 Q942.256 1482.32 944.733 1482.32 Q948.737 1482.32 951.075 1480.21 Q953.413 1478.1 953.413 1474.49 Q953.413 1470.88 951.075 1468.77 Q948.737 1466.67 944.733 1466.67 Q942.858 1466.67 940.983 1467.08 Q939.131 1467.5 937.187 1468.38 L937.187 1451.02 Z\" fill=\"#000000\" fill-rule=\"nonzero\" fill-opacity=\"1\" /><path clip-path=\"url(#clip840)\" d=\"M1334.01 1454.1 Q1330.4 1454.1 1328.57 1457.66 Q1326.76 1461.2 1326.76 1468.33 Q1326.76 1475.44 1328.57 1479.01 Q1330.4 1482.55 1334.01 1482.55 Q1337.64 1482.55 1339.45 1479.01 Q1341.28 1475.44 1341.28 1468.33 Q1341.28 1461.2 1339.45 1457.66 Q1337.64 1454.1 1334.01 1454.1 M1334.01 1450.39 Q1339.82 1450.39 1342.87 1455 Q1345.95 1459.58 1345.95 1468.33 Q1345.95 1477.06 1342.87 1481.67 Q1339.82 1486.25 1334.01 1486.25 Q1328.2 1486.25 1325.12 1481.67 Q1322.06 1477.06 1322.06 1468.33 Q1322.06 1459.58 1325.12 1455 Q1328.2 1450.39 1334.01 1450.39 Z\" fill=\"#000000\" fill-rule=\"nonzero\" fill-opacity=\"1\" /><path clip-path=\"url(#clip840)\" d=\"M1354.17 1479.7 L1359.06 1479.7 L1359.06 1485.58 L1354.17 1485.58 L1354.17 1479.7 Z\" fill=\"#000000\" fill-rule=\"nonzero\" fill-opacity=\"1\" /><path clip-path=\"url(#clip840)\" d=\"M1369.29 1451.02 L1387.64 1451.02 L1387.64 1454.96 L1373.57 1454.96 L1373.57 1463.43 Q1374.59 1463.08 1375.61 1462.92 Q1376.62 1462.73 1377.64 1462.73 Q1383.43 1462.73 1386.81 1465.9 Q1390.19 1469.08 1390.19 1474.49 Q1390.19 1480.07 1386.72 1483.17 Q1383.24 1486.25 1376.93 1486.25 Q1374.75 1486.25 1372.48 1485.88 Q1370.24 1485.51 1367.83 1484.77 L1367.83 1480.07 Q1369.91 1481.2 1372.13 1481.76 Q1374.36 1482.32 1376.83 1482.32 Q1380.84 1482.32 1383.18 1480.21 Q1385.51 1478.1 1385.51 1474.49 Q1385.51 1470.88 1383.18 1468.77 Q1380.84 1466.67 1376.83 1466.67 Q1374.96 1466.67 1373.08 1467.08 Q1371.23 1467.5 1369.29 1468.38 L1369.29 1451.02 Z\" fill=\"#000000\" fill-rule=\"nonzero\" fill-opacity=\"1\" /><path clip-path=\"url(#clip840)\" d=\"M1409.4 1454.1 Q1405.79 1454.1 1403.96 1457.66 Q1402.16 1461.2 1402.16 1468.33 Q1402.16 1475.44 1403.96 1479.01 Q1405.79 1482.55 1409.4 1482.55 Q1413.04 1482.55 1414.84 1479.01 Q1416.67 1475.44 1416.67 1468.33 Q1416.67 1461.2 1414.84 1457.66 Q1413.04 1454.1 1409.4 1454.1 M1409.4 1450.39 Q1415.21 1450.39 1418.27 1455 Q1421.35 1459.58 1421.35 1468.33 Q1421.35 1477.06 1418.27 1481.67 Q1415.21 1486.25 1409.4 1486.25 Q1403.59 1486.25 1400.51 1481.67 Q1397.46 1477.06 1397.46 1468.33 Q1397.46 1459.58 1400.51 1455 Q1403.59 1450.39 1409.4 1450.39 Z\" fill=\"#000000\" fill-rule=\"nonzero\" fill-opacity=\"1\" /><path clip-path=\"url(#clip840)\" d=\"M1797.27 1454.1 Q1793.66 1454.1 1791.83 1457.66 Q1790.02 1461.2 1790.02 1468.33 Q1790.02 1475.44 1791.83 1479.01 Q1793.66 1482.55 1797.27 1482.55 Q1800.9 1482.55 1802.71 1479.01 Q1804.53 1475.44 1804.53 1468.33 Q1804.53 1461.2 1802.71 1457.66 Q1800.9 1454.1 1797.27 1454.1 M1797.27 1450.39 Q1803.08 1450.39 1806.13 1455 Q1809.21 1459.58 1809.21 1468.33 Q1809.21 1477.06 1806.13 1481.67 Q1803.08 1486.25 1797.27 1486.25 Q1791.46 1486.25 1788.38 1481.67 Q1785.32 1477.06 1785.32 1468.33 Q1785.32 1459.58 1788.38 1455 Q1791.46 1450.39 1797.27 1450.39 Z\" fill=\"#000000\" fill-rule=\"nonzero\" fill-opacity=\"1\" /><path clip-path=\"url(#clip840)\" d=\"M1817.43 1479.7 L1822.31 1479.7 L1822.31 1485.58 L1817.43 1485.58 L1817.43 1479.7 Z\" fill=\"#000000\" fill-rule=\"nonzero\" fill-opacity=\"1\" /><path clip-path=\"url(#clip840)\" d=\"M1831.32 1451.02 L1853.54 1451.02 L1853.54 1453.01 L1840.99 1485.58 L1836.11 1485.58 L1847.91 1454.96 L1831.32 1454.96 L1831.32 1451.02 Z\" fill=\"#000000\" fill-rule=\"nonzero\" fill-opacity=\"1\" /><path clip-path=\"url(#clip840)\" d=\"M1862.71 1451.02 L1881.06 1451.02 L1881.06 1454.96 L1866.99 1454.96 L1866.99 1463.43 Q1868.01 1463.08 1869.03 1462.92 Q1870.04 1462.73 1871.06 1462.73 Q1876.85 1462.73 1880.23 1465.9 Q1883.61 1469.08 1883.61 1474.49 Q1883.61 1480.07 1880.14 1483.17 Q1876.66 1486.25 1870.34 1486.25 Q1868.17 1486.25 1865.9 1485.88 Q1863.65 1485.51 1861.25 1484.77 L1861.25 1480.07 Q1863.33 1481.2 1865.55 1481.76 Q1867.78 1482.32 1870.25 1482.32 Q1874.26 1482.32 1876.59 1480.21 Q1878.93 1478.1 1878.93 1474.49 Q1878.93 1470.88 1876.59 1468.77 Q1874.26 1466.67 1870.25 1466.67 Q1868.38 1466.67 1866.5 1467.08 Q1864.65 1467.5 1862.71 1468.38 L1862.71 1451.02 Z\" fill=\"#000000\" fill-rule=\"nonzero\" fill-opacity=\"1\" /><path clip-path=\"url(#clip840)\" d=\"M2249.3 1481.64 L2256.94 1481.64 L2256.94 1455.28 L2248.63 1456.95 L2248.63 1452.69 L2256.89 1451.02 L2261.57 1451.02 L2261.57 1481.64 L2269.2 1481.64 L2269.2 1485.58 L2249.3 1485.58 L2249.3 1481.64 Z\" fill=\"#000000\" fill-rule=\"nonzero\" fill-opacity=\"1\" /><path clip-path=\"url(#clip840)\" d=\"M2278.65 1479.7 L2283.53 1479.7 L2283.53 1485.58 L2278.65 1485.58 L2278.65 1479.7 Z\" fill=\"#000000\" fill-rule=\"nonzero\" fill-opacity=\"1\" /><path clip-path=\"url(#clip840)\" d=\"M2303.72 1454.1 Q2300.11 1454.1 2298.28 1457.66 Q2296.47 1461.2 2296.47 1468.33 Q2296.47 1475.44 2298.28 1479.01 Q2300.11 1482.55 2303.72 1482.55 Q2307.35 1482.55 2309.16 1479.01 Q2310.99 1475.44 2310.99 1468.33 Q2310.99 1461.2 2309.16 1457.66 Q2307.35 1454.1 2303.72 1454.1 M2303.72 1450.39 Q2309.53 1450.39 2312.58 1455 Q2315.66 1459.58 2315.66 1468.33 Q2315.66 1477.06 2312.58 1481.67 Q2309.53 1486.25 2303.72 1486.25 Q2297.91 1486.25 2294.83 1481.67 Q2291.77 1477.06 2291.77 1468.33 Q2291.77 1459.58 2294.83 1455 Q2297.91 1450.39 2303.72 1450.39 Z\" fill=\"#000000\" fill-rule=\"nonzero\" fill-opacity=\"1\" /><path clip-path=\"url(#clip840)\" d=\"M2333.88 1454.1 Q2330.27 1454.1 2328.44 1457.66 Q2326.63 1461.2 2326.63 1468.33 Q2326.63 1475.44 2328.44 1479.01 Q2330.27 1482.55 2333.88 1482.55 Q2337.51 1482.55 2339.32 1479.01 Q2341.15 1475.44 2341.15 1468.33 Q2341.15 1461.2 2339.32 1457.66 Q2337.51 1454.1 2333.88 1454.1 M2333.88 1450.39 Q2339.69 1450.39 2342.75 1455 Q2345.82 1459.58 2345.82 1468.33 Q2345.82 1477.06 2342.75 1481.67 Q2339.69 1486.25 2333.88 1486.25 Q2328.07 1486.25 2324.99 1481.67 Q2321.94 1477.06 2321.94 1468.33 Q2321.94 1459.58 2324.99 1455 Q2328.07 1450.39 2333.88 1450.39 Z\" fill=\"#000000\" fill-rule=\"nonzero\" fill-opacity=\"1\" /><path clip-path=\"url(#clip840)\" d=\"M1388.32 1532.4 L1375.43 1549.74 L1388.99 1568.04 L1382.08 1568.04 L1371.71 1554.04 L1361.33 1568.04 L1354.42 1568.04 L1368.27 1549.39 L1355.6 1532.4 L1362.51 1532.4 L1371.96 1545.1 L1381.41 1532.4 L1388.32 1532.4 Z\" fill=\"#000000\" fill-rule=\"nonzero\" fill-opacity=\"1\" /><polyline clip-path=\"url(#clip840)\" style=\"stroke:#000000; stroke-linecap:round; stroke-linejoin:round; stroke-width:4; stroke-opacity:1; fill:none\" points=\"390.655,1423.18 390.655,123.472 \"/>\n",
       "<polyline clip-path=\"url(#clip840)\" style=\"stroke:#000000; stroke-linecap:round; stroke-linejoin:round; stroke-width:4; stroke-opacity:1; fill:none\" points=\"390.655,1386.4 409.553,1386.4 \"/>\n",
       "<polyline clip-path=\"url(#clip840)\" style=\"stroke:#000000; stroke-linecap:round; stroke-linejoin:round; stroke-width:4; stroke-opacity:1; fill:none\" points=\"390.655,1119.02 409.553,1119.02 \"/>\n",
       "<polyline clip-path=\"url(#clip840)\" style=\"stroke:#000000; stroke-linecap:round; stroke-linejoin:round; stroke-width:4; stroke-opacity:1; fill:none\" points=\"390.655,851.643 409.553,851.643 \"/>\n",
       "<polyline clip-path=\"url(#clip840)\" style=\"stroke:#000000; stroke-linecap:round; stroke-linejoin:round; stroke-width:4; stroke-opacity:1; fill:none\" points=\"390.655,584.267 409.553,584.267 \"/>\n",
       "<polyline clip-path=\"url(#clip840)\" style=\"stroke:#000000; stroke-linecap:round; stroke-linejoin:round; stroke-width:4; stroke-opacity:1; fill:none\" points=\"390.655,316.891 409.553,316.891 \"/>\n",
       "<path clip-path=\"url(#clip840)\" d=\"M342.711 1372.19 Q339.1 1372.19 337.271 1375.76 Q335.466 1379.3 335.466 1386.43 Q335.466 1393.54 337.271 1397.1 Q339.1 1400.64 342.711 1400.64 Q346.345 1400.64 348.151 1397.1 Q349.979 1393.54 349.979 1386.43 Q349.979 1379.3 348.151 1375.76 Q346.345 1372.19 342.711 1372.19 M342.711 1368.49 Q348.521 1368.49 351.577 1373.1 Q354.655 1377.68 354.655 1386.43 Q354.655 1395.16 351.577 1399.76 Q348.521 1404.35 342.711 1404.35 Q336.901 1404.35 333.822 1399.76 Q330.767 1395.16 330.767 1386.43 Q330.767 1377.68 333.822 1373.1 Q336.901 1368.49 342.711 1368.49 Z\" fill=\"#000000\" fill-rule=\"nonzero\" fill-opacity=\"1\" /><path clip-path=\"url(#clip840)\" d=\"M119.885 1138.81 L136.204 1138.81 L136.204 1142.75 L114.26 1142.75 L114.26 1138.81 Q116.922 1136.06 121.505 1131.43 Q126.112 1126.77 127.292 1125.43 Q129.538 1122.91 130.417 1121.17 Q131.32 1119.41 131.32 1117.72 Q131.32 1114.97 129.376 1113.23 Q127.455 1111.5 124.353 1111.5 Q122.154 1111.5 119.7 1112.26 Q117.269 1113.03 114.492 1114.58 L114.492 1109.85 Q117.316 1108.72 119.769 1108.14 Q122.223 1107.56 124.26 1107.56 Q129.63 1107.56 132.825 1110.25 Q136.019 1112.93 136.019 1117.42 Q136.019 1119.55 135.209 1121.47 Q134.422 1123.37 132.316 1125.96 Q131.737 1126.64 128.635 1129.85 Q125.533 1133.05 119.885 1138.81 Z\" fill=\"#000000\" fill-rule=\"nonzero\" fill-opacity=\"1\" /><path clip-path=\"url(#clip840)\" d=\"M146.019 1136.87 L150.903 1136.87 L150.903 1142.75 L146.019 1142.75 L146.019 1136.87 Z\" fill=\"#000000\" fill-rule=\"nonzero\" fill-opacity=\"1\" /><path clip-path=\"url(#clip840)\" d=\"M161.135 1108.19 L179.491 1108.19 L179.491 1112.12 L165.417 1112.12 L165.417 1120.59 Q166.436 1120.25 167.454 1120.09 Q168.473 1119.9 169.491 1119.9 Q175.278 1119.9 178.658 1123.07 Q182.038 1126.24 182.038 1131.66 Q182.038 1137.24 178.565 1140.34 Q175.093 1143.42 168.774 1143.42 Q166.598 1143.42 164.329 1143.05 Q162.084 1142.68 159.677 1141.94 L159.677 1137.24 Q161.76 1138.37 163.982 1138.93 Q166.204 1139.48 168.681 1139.48 Q172.686 1139.48 175.024 1137.38 Q177.362 1135.27 177.362 1131.66 Q177.362 1128.05 175.024 1125.94 Q172.686 1123.84 168.681 1123.84 Q166.806 1123.84 164.931 1124.25 Q163.079 1124.67 161.135 1125.55 L161.135 1108.19 Z\" fill=\"#000000\" fill-rule=\"nonzero\" fill-opacity=\"1\" /><path clip-path=\"url(#clip840)\" d=\"M201.25 1111.27 Q197.639 1111.27 195.811 1114.83 Q194.005 1118.37 194.005 1125.5 Q194.005 1132.61 195.811 1136.17 Q197.639 1139.71 201.25 1139.71 Q204.885 1139.71 206.69 1136.17 Q208.519 1132.61 208.519 1125.5 Q208.519 1118.37 206.69 1114.83 Q204.885 1111.27 201.25 1111.27 M201.25 1107.56 Q207.061 1107.56 210.116 1112.17 Q213.195 1116.75 213.195 1125.5 Q213.195 1134.23 210.116 1138.84 Q207.061 1143.42 201.25 1143.42 Q195.44 1143.42 192.362 1138.84 Q189.306 1134.23 189.306 1125.5 Q189.306 1116.75 192.362 1112.17 Q195.44 1107.56 201.25 1107.56 Z\" fill=\"#000000\" fill-rule=\"nonzero\" fill-opacity=\"1\" /><path clip-path=\"url(#clip840)\" d=\"M249.584 1117.28 L239.005 1127.91 L249.584 1138.49 L246.829 1141.29 L236.204 1130.66 L225.579 1141.29 L222.848 1138.49 L233.403 1127.91 L222.848 1117.28 L225.579 1114.48 L236.204 1125.11 L246.829 1114.48 L249.584 1117.28 Z\" fill=\"#000000\" fill-rule=\"nonzero\" fill-opacity=\"1\" /><path clip-path=\"url(#clip840)\" d=\"M261.945 1138.81 L269.583 1138.81 L269.583 1112.45 L261.273 1114.11 L261.273 1109.85 L269.537 1108.19 L274.213 1108.19 L274.213 1138.81 L281.852 1138.81 L281.852 1142.75 L261.945 1142.75 L261.945 1138.81 Z\" fill=\"#000000\" fill-rule=\"nonzero\" fill-opacity=\"1\" /><path clip-path=\"url(#clip840)\" d=\"M301.296 1111.27 Q297.685 1111.27 295.856 1114.83 Q294.051 1118.37 294.051 1125.5 Q294.051 1132.61 295.856 1136.17 Q297.685 1139.71 301.296 1139.71 Q304.93 1139.71 306.736 1136.17 Q308.565 1132.61 308.565 1125.5 Q308.565 1118.37 306.736 1114.83 Q304.93 1111.27 301.296 1111.27 M301.296 1107.56 Q307.106 1107.56 310.162 1112.17 Q313.241 1116.75 313.241 1125.5 Q313.241 1134.23 310.162 1138.84 Q307.106 1143.42 301.296 1143.42 Q295.486 1143.42 292.407 1138.84 Q289.352 1134.23 289.352 1125.5 Q289.352 1116.75 292.407 1112.17 Q295.486 1107.56 301.296 1107.56 Z\" fill=\"#000000\" fill-rule=\"nonzero\" fill-opacity=\"1\" /><path clip-path=\"url(#clip840)\" d=\"M313.786 1112.14 L319.993 1112.14 L319.993 1090.72 L313.241 1092.07 L313.241 1088.61 L319.955 1087.26 L323.754 1087.26 L323.754 1112.14 L329.961 1112.14 L329.961 1115.34 L313.786 1115.34 L313.786 1112.14 Z\" fill=\"#000000\" fill-rule=\"nonzero\" fill-opacity=\"1\" /><path clip-path=\"url(#clip840)\" d=\"M337.672 1087.26 L352.586 1087.26 L352.586 1090.45 L341.151 1090.45 L341.151 1097.34 Q341.979 1097.06 342.806 1096.92 Q343.634 1096.77 344.461 1096.77 Q349.163 1096.77 351.909 1099.35 Q354.655 1101.93 354.655 1106.33 Q354.655 1110.86 351.834 1113.38 Q349.013 1115.88 343.878 1115.88 Q342.11 1115.88 340.267 1115.58 Q338.443 1115.28 336.487 1114.68 L336.487 1110.86 Q338.18 1111.78 339.985 1112.23 Q341.791 1112.68 343.803 1112.68 Q347.057 1112.68 348.957 1110.97 Q350.856 1109.26 350.856 1106.33 Q350.856 1103.39 348.957 1101.68 Q347.057 1099.97 343.803 1099.97 Q342.28 1099.97 340.756 1100.31 Q339.252 1100.65 337.672 1101.36 L337.672 1087.26 Z\" fill=\"#000000\" fill-rule=\"nonzero\" fill-opacity=\"1\" /><path clip-path=\"url(#clip840)\" d=\"M115.904 840.811 L134.26 840.811 L134.26 844.746 L120.186 844.746 L120.186 853.218 Q121.205 852.871 122.223 852.709 Q123.242 852.524 124.26 852.524 Q130.047 852.524 133.427 855.695 Q136.806 858.866 136.806 864.283 Q136.806 869.862 133.334 872.964 Q129.862 876.042 123.543 876.042 Q121.367 876.042 119.098 875.672 Q116.853 875.302 114.445 874.561 L114.445 869.862 Q116.529 870.996 118.751 871.552 Q120.973 872.107 123.45 872.107 Q127.455 872.107 129.792 870.001 Q132.13 867.894 132.13 864.283 Q132.13 860.672 129.792 858.566 Q127.455 856.459 123.45 856.459 Q121.575 856.459 119.7 856.876 Q117.848 857.292 115.904 858.172 L115.904 840.811 Z\" fill=\"#000000\" fill-rule=\"nonzero\" fill-opacity=\"1\" /><path clip-path=\"url(#clip840)\" d=\"M146.019 869.491 L150.903 869.491 L150.903 875.371 L146.019 875.371 L146.019 869.491 Z\" fill=\"#000000\" fill-rule=\"nonzero\" fill-opacity=\"1\" /><path clip-path=\"url(#clip840)\" d=\"M171.089 843.89 Q167.477 843.89 165.649 847.454 Q163.843 850.996 163.843 858.126 Q163.843 865.232 165.649 868.797 Q167.477 872.339 171.089 872.339 Q174.723 872.339 176.528 868.797 Q178.357 865.232 178.357 858.126 Q178.357 850.996 176.528 847.454 Q174.723 843.89 171.089 843.89 M171.089 840.186 Q176.899 840.186 179.954 844.792 Q183.033 849.376 183.033 858.126 Q183.033 866.853 179.954 871.459 Q176.899 876.042 171.089 876.042 Q165.278 876.042 162.2 871.459 Q159.144 866.853 159.144 858.126 Q159.144 849.376 162.2 844.792 Q165.278 840.186 171.089 840.186 Z\" fill=\"#000000\" fill-rule=\"nonzero\" fill-opacity=\"1\" /><path clip-path=\"url(#clip840)\" d=\"M201.25 843.89 Q197.639 843.89 195.811 847.454 Q194.005 850.996 194.005 858.126 Q194.005 865.232 195.811 868.797 Q197.639 872.339 201.25 872.339 Q204.885 872.339 206.69 868.797 Q208.519 865.232 208.519 858.126 Q208.519 850.996 206.69 847.454 Q204.885 843.89 201.25 843.89 M201.25 840.186 Q207.061 840.186 210.116 844.792 Q213.195 849.376 213.195 858.126 Q213.195 866.853 210.116 871.459 Q207.061 876.042 201.25 876.042 Q195.44 876.042 192.362 871.459 Q189.306 866.853 189.306 858.126 Q189.306 849.376 192.362 844.792 Q195.44 840.186 201.25 840.186 Z\" fill=\"#000000\" fill-rule=\"nonzero\" fill-opacity=\"1\" /><path clip-path=\"url(#clip840)\" d=\"M249.584 849.908 L239.005 860.533 L249.584 871.112 L246.829 873.913 L236.204 863.288 L225.579 873.913 L222.848 871.112 L233.403 860.533 L222.848 849.908 L225.579 847.107 L236.204 857.732 L246.829 847.107 L249.584 849.908 Z\" fill=\"#000000\" fill-rule=\"nonzero\" fill-opacity=\"1\" /><path clip-path=\"url(#clip840)\" d=\"M261.945 871.436 L269.583 871.436 L269.583 845.07 L261.273 846.737 L261.273 842.478 L269.537 840.811 L274.213 840.811 L274.213 871.436 L281.852 871.436 L281.852 875.371 L261.945 875.371 L261.945 871.436 Z\" fill=\"#000000\" fill-rule=\"nonzero\" fill-opacity=\"1\" /><path clip-path=\"url(#clip840)\" d=\"M301.296 843.89 Q297.685 843.89 295.856 847.454 Q294.051 850.996 294.051 858.126 Q294.051 865.232 295.856 868.797 Q297.685 872.339 301.296 872.339 Q304.93 872.339 306.736 868.797 Q308.565 865.232 308.565 858.126 Q308.565 850.996 306.736 847.454 Q304.93 843.89 301.296 843.89 M301.296 840.186 Q307.106 840.186 310.162 844.792 Q313.241 849.376 313.241 858.126 Q313.241 866.853 310.162 871.459 Q307.106 876.042 301.296 876.042 Q295.486 876.042 292.407 871.459 Q289.352 866.853 289.352 858.126 Q289.352 849.376 292.407 844.792 Q295.486 840.186 301.296 840.186 Z\" fill=\"#000000\" fill-rule=\"nonzero\" fill-opacity=\"1\" /><path clip-path=\"url(#clip840)\" d=\"M313.786 844.763 L319.993 844.763 L319.993 823.341 L313.241 824.695 L313.241 821.235 L319.955 819.881 L323.754 819.881 L323.754 844.763 L329.961 844.763 L329.961 847.961 L313.786 847.961 L313.786 844.763 Z\" fill=\"#000000\" fill-rule=\"nonzero\" fill-opacity=\"1\" /><path clip-path=\"url(#clip840)\" d=\"M337.672 819.881 L352.586 819.881 L352.586 823.078 L341.151 823.078 L341.151 829.962 Q341.979 829.679 342.806 829.548 Q343.634 829.397 344.461 829.397 Q349.163 829.397 351.909 831.974 Q354.655 834.551 354.655 838.952 Q354.655 843.484 351.834 846.005 Q349.013 848.506 343.878 848.506 Q342.11 848.506 340.267 848.205 Q338.443 847.904 336.487 847.302 L336.487 843.484 Q338.18 844.406 339.985 844.857 Q341.791 845.309 343.803 845.309 Q347.057 845.309 348.957 843.597 Q350.856 841.886 350.856 838.952 Q350.856 836.018 348.957 834.306 Q347.057 832.595 343.803 832.595 Q342.28 832.595 340.756 832.933 Q339.252 833.272 337.672 833.986 L337.672 819.881 Z\" fill=\"#000000\" fill-rule=\"nonzero\" fill-opacity=\"1\" /><path clip-path=\"url(#clip840)\" d=\"M114.677 573.435 L136.899 573.435 L136.899 575.426 L124.353 607.995 L119.468 607.995 L131.274 577.37 L114.677 577.37 L114.677 573.435 Z\" fill=\"#000000\" fill-rule=\"nonzero\" fill-opacity=\"1\" /><path clip-path=\"url(#clip840)\" d=\"M146.019 602.115 L150.903 602.115 L150.903 607.995 L146.019 607.995 L146.019 602.115 Z\" fill=\"#000000\" fill-rule=\"nonzero\" fill-opacity=\"1\" /><path clip-path=\"url(#clip840)\" d=\"M161.135 573.435 L179.491 573.435 L179.491 577.37 L165.417 577.37 L165.417 585.842 Q166.436 585.495 167.454 585.333 Q168.473 585.148 169.491 585.148 Q175.278 585.148 178.658 588.319 Q182.038 591.49 182.038 596.907 Q182.038 602.486 178.565 605.587 Q175.093 608.666 168.774 608.666 Q166.598 608.666 164.329 608.296 Q162.084 607.925 159.677 607.185 L159.677 602.486 Q161.76 603.62 163.982 604.175 Q166.204 604.731 168.681 604.731 Q172.686 604.731 175.024 602.625 Q177.362 600.518 177.362 596.907 Q177.362 593.296 175.024 591.189 Q172.686 589.083 168.681 589.083 Q166.806 589.083 164.931 589.5 Q163.079 589.916 161.135 590.796 L161.135 573.435 Z\" fill=\"#000000\" fill-rule=\"nonzero\" fill-opacity=\"1\" /><path clip-path=\"url(#clip840)\" d=\"M201.25 576.514 Q197.639 576.514 195.811 580.078 Q194.005 583.62 194.005 590.75 Q194.005 597.856 195.811 601.421 Q197.639 604.962 201.25 604.962 Q204.885 604.962 206.69 601.421 Q208.519 597.856 208.519 590.75 Q208.519 583.62 206.69 580.078 Q204.885 576.514 201.25 576.514 M201.25 572.81 Q207.061 572.81 210.116 577.416 Q213.195 582 213.195 590.75 Q213.195 599.476 210.116 604.083 Q207.061 608.666 201.25 608.666 Q195.44 608.666 192.362 604.083 Q189.306 599.476 189.306 590.75 Q189.306 582 192.362 577.416 Q195.44 572.81 201.25 572.81 Z\" fill=\"#000000\" fill-rule=\"nonzero\" fill-opacity=\"1\" /><path clip-path=\"url(#clip840)\" d=\"M249.584 582.532 L239.005 593.157 L249.584 603.736 L246.829 606.537 L236.204 595.912 L225.579 606.537 L222.848 603.736 L233.403 593.157 L222.848 582.532 L225.579 579.731 L236.204 590.356 L246.829 579.731 L249.584 582.532 Z\" fill=\"#000000\" fill-rule=\"nonzero\" fill-opacity=\"1\" /><path clip-path=\"url(#clip840)\" d=\"M261.945 604.06 L269.583 604.06 L269.583 577.694 L261.273 579.361 L261.273 575.102 L269.537 573.435 L274.213 573.435 L274.213 604.06 L281.852 604.06 L281.852 607.995 L261.945 607.995 L261.945 604.06 Z\" fill=\"#000000\" fill-rule=\"nonzero\" fill-opacity=\"1\" /><path clip-path=\"url(#clip840)\" d=\"M301.296 576.514 Q297.685 576.514 295.856 580.078 Q294.051 583.62 294.051 590.75 Q294.051 597.856 295.856 601.421 Q297.685 604.962 301.296 604.962 Q304.93 604.962 306.736 601.421 Q308.565 597.856 308.565 590.75 Q308.565 583.62 306.736 580.078 Q304.93 576.514 301.296 576.514 M301.296 572.81 Q307.106 572.81 310.162 577.416 Q313.241 582 313.241 590.75 Q313.241 599.476 310.162 604.083 Q307.106 608.666 301.296 608.666 Q295.486 608.666 292.407 604.083 Q289.352 599.476 289.352 590.75 Q289.352 582 292.407 577.416 Q295.486 572.81 301.296 572.81 Z\" fill=\"#000000\" fill-rule=\"nonzero\" fill-opacity=\"1\" /><path clip-path=\"url(#clip840)\" d=\"M313.786 577.387 L319.993 577.387 L319.993 555.965 L313.241 557.319 L313.241 553.859 L319.955 552.504 L323.754 552.504 L323.754 577.387 L329.961 577.387 L329.961 580.584 L313.786 580.584 L313.786 577.387 Z\" fill=\"#000000\" fill-rule=\"nonzero\" fill-opacity=\"1\" /><path clip-path=\"url(#clip840)\" d=\"M337.672 552.504 L352.586 552.504 L352.586 555.702 L341.151 555.702 L341.151 562.585 Q341.979 562.303 342.806 562.172 Q343.634 562.021 344.461 562.021 Q349.163 562.021 351.909 564.598 Q354.655 567.175 354.655 571.576 Q354.655 576.108 351.834 578.628 Q349.013 581.13 343.878 581.13 Q342.11 581.13 340.267 580.829 Q338.443 580.528 336.487 579.926 L336.487 576.108 Q338.18 577.03 339.985 577.481 Q341.791 577.933 343.803 577.933 Q347.057 577.933 348.957 576.221 Q350.856 574.51 350.856 571.576 Q350.856 568.642 348.957 566.93 Q347.057 565.219 343.803 565.219 Q342.28 565.219 340.756 565.557 Q339.252 565.896 337.672 566.61 L337.672 552.504 Z\" fill=\"#000000\" fill-rule=\"nonzero\" fill-opacity=\"1\" /><path clip-path=\"url(#clip840)\" d=\"M115.727 336.684 L123.366 336.684 L123.366 310.318 L115.056 311.985 L115.056 307.725 L123.32 306.059 L127.996 306.059 L127.996 336.684 L135.634 336.684 L135.634 340.619 L115.727 340.619 L115.727 336.684 Z\" fill=\"#000000\" fill-rule=\"nonzero\" fill-opacity=\"1\" /><path clip-path=\"url(#clip840)\" d=\"M145.079 334.739 L149.963 334.739 L149.963 340.619 L145.079 340.619 L145.079 334.739 Z\" fill=\"#000000\" fill-rule=\"nonzero\" fill-opacity=\"1\" /><path clip-path=\"url(#clip840)\" d=\"M170.148 309.137 Q166.537 309.137 164.708 312.702 Q162.903 316.244 162.903 323.373 Q162.903 330.48 164.708 334.045 Q166.537 337.586 170.148 337.586 Q173.782 337.586 175.588 334.045 Q177.417 330.48 177.417 323.373 Q177.417 316.244 175.588 312.702 Q173.782 309.137 170.148 309.137 M170.148 305.434 Q175.958 305.434 179.014 310.04 Q182.093 314.624 182.093 323.373 Q182.093 332.1 179.014 336.707 Q175.958 341.29 170.148 341.29 Q164.338 341.29 161.259 336.707 Q158.204 332.1 158.204 323.373 Q158.204 314.624 161.259 310.04 Q164.338 305.434 170.148 305.434 Z\" fill=\"#000000\" fill-rule=\"nonzero\" fill-opacity=\"1\" /><path clip-path=\"url(#clip840)\" d=\"M200.31 309.137 Q196.699 309.137 194.87 312.702 Q193.065 316.244 193.065 323.373 Q193.065 330.48 194.87 334.045 Q196.699 337.586 200.31 337.586 Q203.944 337.586 205.75 334.045 Q207.579 330.48 207.579 323.373 Q207.579 316.244 205.75 312.702 Q203.944 309.137 200.31 309.137 M200.31 305.434 Q206.12 305.434 209.176 310.04 Q212.254 314.624 212.254 323.373 Q212.254 332.1 209.176 336.707 Q206.12 341.29 200.31 341.29 Q194.5 341.29 191.421 336.707 Q188.366 332.1 188.366 323.373 Q188.366 314.624 191.421 310.04 Q194.5 305.434 200.31 305.434 Z\" fill=\"#000000\" fill-rule=\"nonzero\" fill-opacity=\"1\" /><path clip-path=\"url(#clip840)\" d=\"M248.643 315.156 L238.064 325.781 L248.643 336.36 L245.889 339.16 L235.264 328.535 L224.639 339.16 L221.907 336.36 L232.463 325.781 L221.907 315.156 L224.639 312.355 L235.264 322.98 L245.889 312.355 L248.643 315.156 Z\" fill=\"#000000\" fill-rule=\"nonzero\" fill-opacity=\"1\" /><path clip-path=\"url(#clip840)\" d=\"M261.004 336.684 L268.643 336.684 L268.643 310.318 L260.333 311.985 L260.333 307.725 L268.597 306.059 L273.273 306.059 L273.273 336.684 L280.911 336.684 L280.911 340.619 L261.004 340.619 L261.004 336.684 Z\" fill=\"#000000\" fill-rule=\"nonzero\" fill-opacity=\"1\" /><path clip-path=\"url(#clip840)\" d=\"M300.356 309.137 Q296.745 309.137 294.916 312.702 Q293.11 316.244 293.11 323.373 Q293.11 330.48 294.916 334.045 Q296.745 337.586 300.356 337.586 Q303.99 337.586 305.796 334.045 Q307.624 330.48 307.624 323.373 Q307.624 316.244 305.796 312.702 Q303.99 309.137 300.356 309.137 M300.356 305.434 Q306.166 305.434 309.221 310.04 Q312.3 314.624 312.3 323.373 Q312.3 332.1 309.221 336.707 Q306.166 341.29 300.356 341.29 Q294.546 341.29 291.467 336.707 Q288.411 332.1 288.411 323.373 Q288.411 314.624 291.467 310.04 Q294.546 305.434 300.356 305.434 Z\" fill=\"#000000\" fill-rule=\"nonzero\" fill-opacity=\"1\" /><path clip-path=\"url(#clip840)\" d=\"M312.846 310.011 L319.052 310.011 L319.052 288.589 L312.3 289.943 L312.3 286.482 L319.015 285.128 L322.814 285.128 L322.814 310.011 L329.02 310.011 L329.02 313.208 L312.846 313.208 L312.846 310.011 Z\" fill=\"#000000\" fill-rule=\"nonzero\" fill-opacity=\"1\" /><path clip-path=\"url(#clip840)\" d=\"M345.289 297.654 Q342.731 297.654 341.227 299.403 Q339.741 301.153 339.741 304.199 Q339.741 307.227 341.227 308.995 Q342.731 310.745 345.289 310.745 Q347.847 310.745 349.333 308.995 Q350.837 307.227 350.837 304.199 Q350.837 301.153 349.333 299.403 Q347.847 297.654 345.289 297.654 M352.831 285.749 L352.831 289.21 Q351.402 288.533 349.935 288.175 Q348.486 287.818 347.057 287.818 Q343.295 287.818 341.302 290.357 Q339.327 292.896 339.045 298.03 Q340.154 296.394 341.828 295.529 Q343.502 294.645 345.515 294.645 Q349.746 294.645 352.191 297.222 Q354.655 299.78 354.655 304.199 Q354.655 308.525 352.097 311.139 Q349.54 313.754 345.289 313.754 Q340.418 313.754 337.841 310.03 Q335.264 306.287 335.264 299.197 Q335.264 292.539 338.424 288.589 Q341.584 284.621 346.906 284.621 Q348.336 284.621 349.784 284.903 Q351.251 285.185 352.831 285.749 Z\" fill=\"#000000\" fill-rule=\"nonzero\" fill-opacity=\"1\" /><path clip-path=\"url(#clip840)\" d=\"M49.9359 833.132 L28.3562 833.132 L28.3562 827.275 L49.7131 827.275 Q54.7739 827.275 57.3202 825.302 Q59.8346 823.329 59.8346 819.382 Q59.8346 814.639 56.8109 811.902 Q53.7872 809.133 48.5673 809.133 L28.3562 809.133 L28.3562 803.277 L64.0042 803.277 L64.0042 809.133 L58.5296 809.133 Q61.7762 811.266 63.3676 814.098 Q64.9272 816.899 64.9272 820.623 Q64.9272 826.766 61.1078 829.949 Q57.2883 833.132 49.9359 833.132 M27.4968 818.395 L27.4968 818.395 Z\" fill=\"#000000\" fill-rule=\"nonzero\" fill-opacity=\"1\" /><path clip-path=\"url(#clip840)\" d=\"M14.5426 777.145 Q21.8632 781.41 29.0246 783.479 Q36.186 785.548 43.5384 785.548 Q50.8908 785.548 58.1159 783.479 Q65.3091 781.379 72.5979 777.145 L72.5979 782.238 Q65.1182 787.012 57.8931 789.399 Q50.668 791.755 43.5384 791.755 Q36.4406 791.755 29.2474 789.399 Q22.0542 787.044 14.5426 782.238 L14.5426 777.145 Z\" fill=\"#000000\" fill-rule=\"nonzero\" fill-opacity=\"1\" /><path clip-path=\"url(#clip840)\" d=\"M28.3562 736.15 L45.7028 749.041 L64.0042 735.482 L64.0042 742.389 L49.9996 752.765 L64.0042 763.141 L64.0042 770.048 L45.3526 756.202 L28.3562 768.87 L28.3562 761.963 L41.0558 752.51 L28.3562 743.057 L28.3562 736.15 Z\" fill=\"#000000\" fill-rule=\"nonzero\" fill-opacity=\"1\" /><path clip-path=\"url(#clip840)\" d=\"M14.5426 728.129 L14.5426 723.037 Q22.0542 718.263 29.2474 715.907 Q36.4406 713.52 43.5384 713.52 Q50.668 713.52 57.8931 715.907 Q65.1182 718.263 72.5979 723.037 L72.5979 728.129 Q65.3091 723.896 58.1159 721.827 Q50.8908 719.727 43.5384 719.727 Q36.186 719.727 29.0246 721.827 Q21.8632 723.896 14.5426 728.129 Z\" fill=\"#000000\" fill-rule=\"nonzero\" fill-opacity=\"1\" /><path clip-path=\"url(#clip840)\" d=\"M713.353 20.1573 L702.253 50.2555 L724.493 50.2555 L713.353 20.1573 M708.735 12.096 L718.011 12.096 L741.061 72.576 L732.554 72.576 L727.045 57.061 L699.782 57.061 L694.273 72.576 L685.644 72.576 L708.735 12.096 Z\" fill=\"#000000\" fill-rule=\"nonzero\" fill-opacity=\"1\" /><path clip-path=\"url(#clip840)\" d=\"M756.778 65.7705 L756.778 89.8329 L749.284 89.8329 L749.284 27.2059 L756.778 27.2059 L756.778 34.0924 Q759.128 30.0415 762.693 28.0971 Q766.298 26.1121 771.281 26.1121 Q779.544 26.1121 784.689 32.6746 Q789.874 39.2371 789.874 49.9314 Q789.874 60.6258 784.689 67.1883 Q779.544 73.7508 771.281 73.7508 Q766.298 73.7508 762.693 71.8063 Q759.128 69.8214 756.778 65.7705 M782.137 49.9314 Q782.137 41.7081 778.734 37.0496 Q775.372 32.3505 769.458 32.3505 Q763.543 32.3505 760.141 37.0496 Q756.778 41.7081 756.778 49.9314 Q756.778 58.1548 760.141 62.8538 Q763.543 67.5124 769.458 67.5124 Q775.372 67.5124 778.734 62.8538 Q782.137 58.1548 782.137 49.9314 Z\" fill=\"#000000\" fill-rule=\"nonzero\" fill-opacity=\"1\" /><path clip-path=\"url(#clip840)\" d=\"M809.44 65.7705 L809.44 89.8329 L801.946 89.8329 L801.946 27.2059 L809.44 27.2059 L809.44 34.0924 Q811.79 30.0415 815.354 28.0971 Q818.96 26.1121 823.942 26.1121 Q832.206 26.1121 837.351 32.6746 Q842.536 39.2371 842.536 49.9314 Q842.536 60.6258 837.351 67.1883 Q832.206 73.7508 823.942 73.7508 Q818.96 73.7508 815.354 71.8063 Q811.79 69.8214 809.44 65.7705 M834.799 49.9314 Q834.799 41.7081 831.396 37.0496 Q828.034 32.3505 822.119 32.3505 Q816.205 32.3505 812.802 37.0496 Q809.44 41.7081 809.44 49.9314 Q809.44 58.1548 812.802 62.8538 Q816.205 67.5124 822.119 67.5124 Q828.034 67.5124 831.396 62.8538 Q834.799 58.1548 834.799 49.9314 Z\" fill=\"#000000\" fill-rule=\"nonzero\" fill-opacity=\"1\" /><path clip-path=\"url(#clip840)\" d=\"M881.182 34.1734 Q879.926 33.4443 878.427 33.1202 Q876.969 32.7556 875.186 32.7556 Q868.867 32.7556 865.464 36.8875 Q862.102 40.9789 862.102 48.6757 L862.102 72.576 L854.608 72.576 L854.608 27.2059 L862.102 27.2059 L862.102 34.2544 Q864.451 30.1225 868.219 28.1376 Q871.986 26.1121 877.374 26.1121 Q878.143 26.1121 879.075 26.2337 Q880.007 26.3147 881.141 26.5172 L881.182 34.1734 Z\" fill=\"#000000\" fill-rule=\"nonzero\" fill-opacity=\"1\" /><path clip-path=\"url(#clip840)\" d=\"M904.758 32.4315 Q898.763 32.4315 895.279 37.1306 Q891.795 41.7891 891.795 49.9314 Q891.795 58.0738 895.238 62.7728 Q898.722 67.4314 904.758 67.4314 Q910.713 67.4314 914.196 62.7323 Q917.68 58.0333 917.68 49.9314 Q917.68 41.8701 914.196 37.1711 Q910.713 32.4315 904.758 32.4315 M904.758 26.1121 Q914.48 26.1121 920.03 32.4315 Q925.58 38.7509 925.58 49.9314 Q925.58 61.0714 920.03 67.4314 Q914.48 73.7508 904.758 73.7508 Q894.995 73.7508 889.445 67.4314 Q883.936 61.0714 883.936 49.9314 Q883.936 38.7509 889.445 32.4315 Q894.995 26.1121 904.758 26.1121 Z\" fill=\"#000000\" fill-rule=\"nonzero\" fill-opacity=\"1\" /><path clip-path=\"url(#clip840)\" d=\"M973.097 27.2059 L956.69 49.2833 L973.947 72.576 L965.157 72.576 L951.951 54.752 L938.745 72.576 L929.954 72.576 L947.576 48.8377 L931.453 27.2059 L940.244 27.2059 L952.275 43.369 L964.306 27.2059 L973.097 27.2059 Z\" fill=\"#000000\" fill-rule=\"nonzero\" fill-opacity=\"1\" /><path clip-path=\"url(#clip840)\" d=\"M984.48 27.2059 L991.933 27.2059 L991.933 72.576 L984.48 72.576 L984.48 27.2059 M984.48 9.54393 L991.933 9.54393 L991.933 18.9825 L984.48 18.9825 L984.48 9.54393 Z\" fill=\"#000000\" fill-rule=\"nonzero\" fill-opacity=\"1\" /><path clip-path=\"url(#clip840)\" d=\"M1042.85 35.9153 Q1045.65 30.8922 1049.54 28.5022 Q1053.43 26.1121 1058.69 26.1121 Q1065.78 26.1121 1069.63 31.0947 Q1073.48 36.0368 1073.48 45.1919 L1073.48 72.576 L1065.98 72.576 L1065.98 45.4349 Q1065.98 38.913 1063.67 35.7533 Q1061.37 32.5936 1056.63 32.5936 Q1050.83 32.5936 1047.47 36.4419 Q1044.11 40.2903 1044.11 46.9338 L1044.11 72.576 L1036.61 72.576 L1036.61 45.4349 Q1036.61 38.8725 1034.31 35.7533 Q1032 32.5936 1027.18 32.5936 Q1021.46 32.5936 1018.1 36.4824 Q1014.74 40.3308 1014.74 46.9338 L1014.74 72.576 L1007.25 72.576 L1007.25 27.2059 L1014.74 27.2059 L1014.74 34.2544 Q1017.29 30.082 1020.86 28.0971 Q1024.42 26.1121 1029.32 26.1121 Q1034.27 26.1121 1037.71 28.6237 Q1041.19 31.1352 1042.85 35.9153 Z\" fill=\"#000000\" fill-rule=\"nonzero\" fill-opacity=\"1\" /><path clip-path=\"url(#clip840)\" d=\"M1108.96 49.7694 Q1099.93 49.7694 1096.45 51.8354 Q1092.96 53.9013 1092.96 58.8839 Q1092.96 62.8538 1095.56 65.2034 Q1098.19 67.5124 1102.69 67.5124 Q1108.88 67.5124 1112.61 63.1374 Q1116.38 58.7219 1116.38 51.4303 L1116.38 49.7694 L1108.96 49.7694 M1123.83 46.6907 L1123.83 72.576 L1116.38 72.576 L1116.38 65.6895 Q1113.83 69.8214 1110.02 71.8063 Q1106.21 73.7508 1100.7 73.7508 Q1093.73 73.7508 1089.6 69.8619 Q1085.51 65.9325 1085.51 59.3701 Q1085.51 51.7138 1090.61 47.825 Q1095.76 43.9361 1105.93 43.9361 L1116.38 43.9361 L1116.38 43.2069 Q1116.38 38.0623 1112.97 35.2672 Q1109.61 32.4315 1103.5 32.4315 Q1099.61 32.4315 1095.92 33.3632 Q1092.23 34.295 1088.83 36.1584 L1088.83 29.2718 Q1092.92 27.692 1096.77 26.9223 Q1100.62 26.1121 1104.26 26.1121 Q1114.11 26.1121 1118.97 31.2163 Q1123.83 36.3204 1123.83 46.6907 Z\" fill=\"#000000\" fill-rule=\"nonzero\" fill-opacity=\"1\" /><path clip-path=\"url(#clip840)\" d=\"M1146.56 14.324 L1146.56 27.2059 L1161.91 27.2059 L1161.91 32.9987 L1146.56 32.9987 L1146.56 57.6282 Q1146.56 63.1779 1148.06 64.7578 Q1149.59 66.3376 1154.25 66.3376 L1161.91 66.3376 L1161.91 72.576 L1154.25 72.576 Q1145.62 72.576 1142.34 69.3758 Q1139.06 66.1351 1139.06 57.6282 L1139.06 32.9987 L1133.59 32.9987 L1133.59 27.2059 L1139.06 27.2059 L1139.06 14.324 L1146.56 14.324 Z\" fill=\"#000000\" fill-rule=\"nonzero\" fill-opacity=\"1\" /><path clip-path=\"url(#clip840)\" d=\"M1210.52 48.0275 L1210.52 51.6733 L1176.25 51.6733 Q1176.74 59.3701 1180.87 63.421 Q1185.04 67.4314 1192.45 67.4314 Q1196.75 67.4314 1200.76 66.3781 Q1204.81 65.3249 1208.78 63.2184 L1208.78 70.267 Q1204.77 71.9684 1200.55 72.8596 Q1196.34 73.7508 1192.01 73.7508 Q1181.15 73.7508 1174.79 67.4314 Q1168.47 61.1119 1168.47 50.3365 Q1168.47 39.1965 1174.47 32.6746 Q1180.5 26.1121 1190.71 26.1121 Q1199.87 26.1121 1205.17 32.0264 Q1210.52 37.9003 1210.52 48.0275 M1203.07 45.84 Q1202.99 39.7232 1199.62 36.0774 Q1196.3 32.4315 1190.79 32.4315 Q1184.55 32.4315 1180.79 35.9558 Q1177.06 39.4801 1176.49 45.8805 L1203.07 45.84 Z\" fill=\"#000000\" fill-rule=\"nonzero\" fill-opacity=\"1\" /><path clip-path=\"url(#clip840)\" d=\"M1269.74 49.7694 Q1260.71 49.7694 1257.23 51.8354 Q1253.74 53.9013 1253.74 58.8839 Q1253.74 62.8538 1256.34 65.2034 Q1258.97 67.5124 1263.47 67.5124 Q1269.66 67.5124 1273.39 63.1374 Q1277.16 58.7219 1277.16 51.4303 L1277.16 49.7694 L1269.74 49.7694 M1284.61 46.6907 L1284.61 72.576 L1277.16 72.576 L1277.16 65.6895 Q1274.61 69.8214 1270.8 71.8063 Q1266.99 73.7508 1261.48 73.7508 Q1254.51 73.7508 1250.38 69.8619 Q1246.29 65.9325 1246.29 59.3701 Q1246.29 51.7138 1251.39 47.825 Q1256.54 43.9361 1266.71 43.9361 L1277.16 43.9361 L1277.16 43.2069 Q1277.16 38.0623 1273.75 35.2672 Q1270.39 32.4315 1264.28 32.4315 Q1260.39 32.4315 1256.7 33.3632 Q1253.01 34.295 1249.61 36.1584 L1249.61 29.2718 Q1253.7 27.692 1257.55 26.9223 Q1261.4 26.1121 1265.05 26.1121 Q1274.89 26.1121 1279.75 31.2163 Q1284.61 36.3204 1284.61 46.6907 Z\" fill=\"#000000\" fill-rule=\"nonzero\" fill-opacity=\"1\" /><path clip-path=\"url(#clip840)\" d=\"M1337.68 45.1919 L1337.68 72.576 L1330.22 72.576 L1330.22 45.4349 Q1330.22 38.994 1327.71 35.7938 Q1325.2 32.5936 1320.18 32.5936 Q1314.14 32.5936 1310.66 36.4419 Q1307.17 40.2903 1307.17 46.9338 L1307.17 72.576 L1299.68 72.576 L1299.68 27.2059 L1307.17 27.2059 L1307.17 34.2544 Q1309.85 30.163 1313.45 28.1376 Q1317.1 26.1121 1321.84 26.1121 Q1329.66 26.1121 1333.67 30.9732 Q1337.68 35.7938 1337.68 45.1919 Z\" fill=\"#000000\" fill-rule=\"nonzero\" fill-opacity=\"1\" /><path clip-path=\"url(#clip840)\" d=\"M1382.4 34.0924 L1382.4 9.54393 L1389.85 9.54393 L1389.85 72.576 L1382.4 72.576 L1382.4 65.7705 Q1380.05 69.8214 1376.45 71.8063 Q1372.88 73.7508 1367.86 73.7508 Q1359.63 73.7508 1354.45 67.1883 Q1349.3 60.6258 1349.3 49.9314 Q1349.3 39.2371 1354.45 32.6746 Q1359.63 26.1121 1367.86 26.1121 Q1372.88 26.1121 1376.45 28.0971 Q1380.05 30.0415 1382.4 34.0924 M1357 49.9314 Q1357 58.1548 1360.36 62.8538 Q1363.77 67.5124 1369.68 67.5124 Q1375.59 67.5124 1379 62.8538 Q1382.4 58.1548 1382.4 49.9314 Q1382.4 41.7081 1379 37.0496 Q1375.59 32.3505 1369.68 32.3505 Q1363.77 32.3505 1360.36 37.0496 Q1357 41.7081 1357 49.9314 Z\" fill=\"#000000\" fill-rule=\"nonzero\" fill-opacity=\"1\" /><path clip-path=\"url(#clip840)\" d=\"M1431.9 12.096 L1470.14 12.096 L1470.14 18.9825 L1440.08 18.9825 L1440.08 36.8875 L1468.89 36.8875 L1468.89 43.7741 L1440.08 43.7741 L1440.08 65.6895 L1470.87 65.6895 L1470.87 72.576 L1431.9 72.576 L1431.9 12.096 Z\" fill=\"#000000\" fill-rule=\"nonzero\" fill-opacity=\"1\" /><path clip-path=\"url(#clip840)\" d=\"M1521.71 27.2059 L1505.3 49.2833 L1522.56 72.576 L1513.77 72.576 L1500.56 54.752 L1487.36 72.576 L1478.57 72.576 L1496.19 48.8377 L1480.07 27.2059 L1488.86 27.2059 L1500.89 43.369 L1512.92 27.2059 L1521.71 27.2059 Z\" fill=\"#000000\" fill-rule=\"nonzero\" fill-opacity=\"1\" /><path clip-path=\"url(#clip840)\" d=\"M1553.71 49.7694 Q1544.68 49.7694 1541.2 51.8354 Q1537.71 53.9013 1537.71 58.8839 Q1537.71 62.8538 1540.3 65.2034 Q1542.94 67.5124 1547.43 67.5124 Q1553.63 67.5124 1557.36 63.1374 Q1561.13 58.7219 1561.13 51.4303 L1561.13 49.7694 L1553.71 49.7694 M1568.58 46.6907 L1568.58 72.576 L1561.13 72.576 L1561.13 65.6895 Q1558.57 69.8214 1554.77 71.8063 Q1550.96 73.7508 1545.45 73.7508 Q1538.48 73.7508 1534.35 69.8619 Q1530.26 65.9325 1530.26 59.3701 Q1530.26 51.7138 1535.36 47.825 Q1540.51 43.9361 1550.67 43.9361 L1561.13 43.9361 L1561.13 43.2069 Q1561.13 38.0623 1557.72 35.2672 Q1554.36 32.4315 1548.24 32.4315 Q1544.36 32.4315 1540.67 33.3632 Q1536.98 34.295 1533.58 36.1584 L1533.58 29.2718 Q1537.67 27.692 1541.52 26.9223 Q1545.37 26.1121 1549.01 26.1121 Q1558.86 26.1121 1563.72 31.2163 Q1568.58 36.3204 1568.58 46.6907 Z\" fill=\"#000000\" fill-rule=\"nonzero\" fill-opacity=\"1\" /><path clip-path=\"url(#clip840)\" d=\"M1616.58 28.9478 L1616.58 35.9153 Q1613.42 34.1734 1610.22 33.3227 Q1607.06 32.4315 1603.82 32.4315 Q1596.57 32.4315 1592.56 37.0496 Q1588.55 41.6271 1588.55 49.9314 Q1588.55 58.2358 1592.56 62.8538 Q1596.57 67.4314 1603.82 67.4314 Q1607.06 67.4314 1610.22 66.5807 Q1613.42 65.6895 1616.58 63.9476 L1616.58 70.8341 Q1613.46 72.2924 1610.1 73.0216 Q1606.78 73.7508 1603.01 73.7508 Q1592.76 73.7508 1586.73 67.3098 Q1580.69 60.8689 1580.69 49.9314 Q1580.69 38.832 1586.77 32.472 Q1592.88 26.1121 1603.5 26.1121 Q1606.94 26.1121 1610.22 26.8413 Q1613.5 27.5299 1616.58 28.9478 Z\" fill=\"#000000\" fill-rule=\"nonzero\" fill-opacity=\"1\" /><path clip-path=\"url(#clip840)\" d=\"M1636.92 14.324 L1636.92 27.2059 L1652.27 27.2059 L1652.27 32.9987 L1636.92 32.9987 L1636.92 57.6282 Q1636.92 63.1779 1638.42 64.7578 Q1639.96 66.3376 1644.62 66.3376 L1652.27 66.3376 L1652.27 72.576 L1644.62 72.576 Q1635.99 72.576 1632.71 69.3758 Q1629.42 66.1351 1629.42 57.6282 L1629.42 32.9987 L1623.96 32.9987 L1623.96 27.2059 L1629.42 27.2059 L1629.42 14.324 L1636.92 14.324 Z\" fill=\"#000000\" fill-rule=\"nonzero\" fill-opacity=\"1\" /><path clip-path=\"url(#clip840)\" d=\"M1725.03 14.0809 L1725.03 22.0612 Q1720.37 19.8332 1716.23 18.7395 Q1712.1 17.6457 1708.25 17.6457 Q1701.57 17.6457 1697.92 20.2383 Q1694.32 22.8309 1694.32 27.611 Q1694.32 31.6214 1696.71 33.6873 Q1699.14 35.7128 1705.86 36.9686 L1710.81 37.9813 Q1719.96 39.7232 1724.3 44.1387 Q1728.67 48.5136 1728.67 55.8863 Q1728.67 64.6767 1722.76 69.2137 Q1716.88 73.7508 1705.5 73.7508 Q1701.21 73.7508 1696.35 72.7785 Q1691.52 71.8063 1686.34 69.9024 L1686.34 61.4765 Q1691.32 64.2716 1696.1 65.6895 Q1700.88 67.1073 1705.5 67.1073 Q1712.51 67.1073 1716.32 64.3527 Q1720.12 61.598 1720.12 56.4939 Q1720.12 52.0379 1717.37 49.5264 Q1714.66 47.0148 1708.42 45.759 L1703.43 44.7868 Q1694.28 42.9639 1690.19 39.075 Q1686.1 35.1862 1686.1 28.2591 Q1686.1 20.2383 1691.73 15.6203 Q1697.4 11.0023 1707.32 11.0023 Q1711.58 11.0023 1715.99 11.7719 Q1720.41 12.5416 1725.03 14.0809 Z\" fill=\"#000000\" fill-rule=\"nonzero\" fill-opacity=\"1\" /><path clip-path=\"url(#clip840)\" d=\"M1758.69 32.4315 Q1752.69 32.4315 1749.21 37.1306 Q1745.73 41.7891 1745.73 49.9314 Q1745.73 58.0738 1749.17 62.7728 Q1752.65 67.4314 1758.69 67.4314 Q1764.64 67.4314 1768.13 62.7323 Q1771.61 58.0333 1771.61 49.9314 Q1771.61 41.8701 1768.13 37.1711 Q1764.64 32.4315 1758.69 32.4315 M1758.69 26.1121 Q1768.41 26.1121 1773.96 32.4315 Q1779.51 38.7509 1779.51 49.9314 Q1779.51 61.0714 1773.96 67.4314 Q1768.41 73.7508 1758.69 73.7508 Q1748.93 73.7508 1743.38 67.4314 Q1737.87 61.0714 1737.87 49.9314 Q1737.87 38.7509 1743.38 32.4315 Q1748.93 26.1121 1758.69 26.1121 Z\" fill=\"#000000\" fill-rule=\"nonzero\" fill-opacity=\"1\" /><path clip-path=\"url(#clip840)\" d=\"M1791.87 9.54393 L1799.32 9.54393 L1799.32 72.576 L1791.87 72.576 L1791.87 9.54393 Z\" fill=\"#000000\" fill-rule=\"nonzero\" fill-opacity=\"1\" /><path clip-path=\"url(#clip840)\" d=\"M1814.15 54.671 L1814.15 27.2059 L1821.6 27.2059 L1821.6 54.3874 Q1821.6 60.8284 1824.11 64.0691 Q1826.62 67.2693 1831.65 67.2693 Q1837.68 67.2693 1841.16 63.421 Q1844.69 59.5726 1844.69 52.9291 L1844.69 27.2059 L1852.14 27.2059 L1852.14 72.576 L1844.69 72.576 L1844.69 65.6084 Q1841.98 69.7404 1838.37 71.7658 Q1834.8 73.7508 1830.07 73.7508 Q1822.25 73.7508 1818.2 68.8897 Q1814.15 64.0286 1814.15 54.671 M1832.9 26.1121 L1832.9 26.1121 Z\" fill=\"#000000\" fill-rule=\"nonzero\" fill-opacity=\"1\" /><path clip-path=\"url(#clip840)\" d=\"M1874.87 14.324 L1874.87 27.2059 L1890.22 27.2059 L1890.22 32.9987 L1874.87 32.9987 L1874.87 57.6282 Q1874.87 63.1779 1876.37 64.7578 Q1877.91 66.3376 1882.57 66.3376 L1890.22 66.3376 L1890.22 72.576 L1882.57 72.576 Q1873.94 72.576 1870.66 69.3758 Q1867.37 66.1351 1867.37 57.6282 L1867.37 32.9987 L1861.91 32.9987 L1861.91 27.2059 L1867.37 27.2059 L1867.37 14.324 L1874.87 14.324 Z\" fill=\"#000000\" fill-rule=\"nonzero\" fill-opacity=\"1\" /><path clip-path=\"url(#clip840)\" d=\"M1900.02 27.2059 L1907.48 27.2059 L1907.48 72.576 L1900.02 72.576 L1900.02 27.2059 M1900.02 9.54393 L1907.48 9.54393 L1907.48 18.9825 L1900.02 18.9825 L1900.02 9.54393 Z\" fill=\"#000000\" fill-rule=\"nonzero\" fill-opacity=\"1\" /><path clip-path=\"url(#clip840)\" d=\"M1940.66 32.4315 Q1934.66 32.4315 1931.18 37.1306 Q1927.69 41.7891 1927.69 49.9314 Q1927.69 58.0738 1931.14 62.7728 Q1934.62 67.4314 1940.66 67.4314 Q1946.61 67.4314 1950.09 62.7323 Q1953.58 58.0333 1953.58 49.9314 Q1953.58 41.8701 1950.09 37.1711 Q1946.61 32.4315 1940.66 32.4315 M1940.66 26.1121 Q1950.38 26.1121 1955.93 32.4315 Q1961.48 38.7509 1961.48 49.9314 Q1961.48 61.0714 1955.93 67.4314 Q1950.38 73.7508 1940.66 73.7508 Q1930.89 73.7508 1925.34 67.4314 Q1919.83 61.0714 1919.83 49.9314 Q1919.83 38.7509 1925.34 32.4315 Q1930.89 26.1121 1940.66 26.1121 Z\" fill=\"#000000\" fill-rule=\"nonzero\" fill-opacity=\"1\" /><path clip-path=\"url(#clip840)\" d=\"M2011.55 45.1919 L2011.55 72.576 L2004.09 72.576 L2004.09 45.4349 Q2004.09 38.994 2001.58 35.7938 Q1999.07 32.5936 1994.05 32.5936 Q1988.01 32.5936 1984.53 36.4419 Q1981.04 40.2903 1981.04 46.9338 L1981.04 72.576 L1973.55 72.576 L1973.55 27.2059 L1981.04 27.2059 L1981.04 34.2544 Q1983.72 30.163 1987.32 28.1376 Q1990.97 26.1121 1995.71 26.1121 Q2003.53 26.1121 2007.54 30.9732 Q2011.55 35.7938 2011.55 45.1919 Z\" fill=\"#000000\" fill-rule=\"nonzero\" fill-opacity=\"1\" /><path clip-path=\"url(#clip840)\" d=\"M2055.34 28.5427 L2055.34 35.5912 Q2052.18 33.9709 2048.77 33.1607 Q2045.37 32.3505 2041.73 32.3505 Q2036.18 32.3505 2033.38 34.0519 Q2030.63 35.7533 2030.63 39.156 Q2030.63 41.7486 2032.61 43.2475 Q2034.6 44.7058 2040.59 46.0426 L2043.14 46.6097 Q2051.08 48.3111 2054.4 51.4303 Q2057.77 54.509 2057.77 60.0587 Q2057.77 66.3781 2052.74 70.0644 Q2047.76 73.7508 2039.01 73.7508 Q2035.37 73.7508 2031.4 73.0216 Q2027.47 72.3329 2023.09 70.9151 L2023.09 63.2184 Q2027.22 65.3654 2031.23 66.4591 Q2035.24 67.5124 2039.17 67.5124 Q2044.44 67.5124 2047.27 65.73 Q2050.11 63.9071 2050.11 60.6258 Q2050.11 57.5877 2048.04 55.9673 Q2046.02 54.3469 2039.09 52.8481 L2036.5 52.2405 Q2029.57 50.7821 2026.49 47.7845 Q2023.42 44.7463 2023.42 39.4801 Q2023.42 33.0797 2027.95 29.5959 Q2032.49 26.1121 2040.83 26.1121 Q2044.97 26.1121 2048.61 26.7198 Q2052.26 27.3274 2055.34 28.5427 Z\" fill=\"#000000\" fill-rule=\"nonzero\" fill-opacity=\"1\" /><polyline clip-path=\"url(#clip842)\" style=\"stroke:#009af9; stroke-linecap:round; stroke-linejoin:round; stroke-width:4; stroke-opacity:1; fill:none\" points=\"754.693,1386.4 1063.2,1386.4 1371.71,1386.4 1680.21,1386.4 1988.72,1386.4 \"/>\n",
       "<polyline clip-path=\"url(#clip842)\" style=\"stroke:#e26f46; stroke-linecap:round; stroke-linejoin:round; stroke-width:4; stroke-opacity:1; fill:none\" points=\"677.566,1386.4 908.946,1386.4 1140.33,1386.4 1371.71,1386.4 1603.09,1386.4 1834.47,1386.4 2065.84,1386.4 \"/>\n",
       "<polyline clip-path=\"url(#clip842)\" style=\"stroke:#3da44d; stroke-linecap:round; stroke-linejoin:round; stroke-width:4; stroke-opacity:1; fill:none\" points=\"538.738,1386.4 631.29,1386.4 723.842,1386.4 816.394,1386.4 908.946,1386.4 1001.5,1386.4 1094.05,1386.4 1186.6,1386.4 1279.15,1386.4 1371.71,1386.4 1464.26,1386.4 1556.81,1386.4 1649.36,1386.4 1741.91,1386.4 1834.47,1386.4 1927.02,1386.4 2019.57,1386.4 2112.12,1386.4 2204.67,1386.4 \"/>\n",
       "<polyline clip-path=\"url(#clip842)\" style=\"stroke:#c271d2; stroke-linecap:round; stroke-linejoin:round; stroke-width:4; stroke-opacity:1; fill:none\" stroke-dasharray=\"16, 10\" points=\"446.186,1386.4 538.738,1386.4 631.29,1386.4 723.842,1386.4 816.394,1386.4 908.946,1386.4 1001.5,1386.4 1094.05,1386.4 1186.6,1386.4 1279.15,1386.4 1371.71,1386.4 1464.26,1386.4 1556.81,1386.4 1649.36,1386.39 1741.91,1386.39 1834.47,1386.34 1927.02,1385.98 2019.57,1383.36 2112.12,1363.94 2204.67,1220.46 2297.22,160.256 \"/>\n",
       "<path clip-path=\"url(#clip840)\" d=\"M1759.92 425.996 L2287.35 425.996 L2287.35 166.796 L1759.92 166.796  Z\" fill=\"#ffffff\" fill-rule=\"evenodd\" fill-opacity=\"1\"/>\n",
       "<polyline clip-path=\"url(#clip840)\" style=\"stroke:#000000; stroke-linecap:round; stroke-linejoin:round; stroke-width:4; stroke-opacity:1; fill:none\" points=\"1759.92,425.996 2287.35,425.996 2287.35,166.796 1759.92,166.796 1759.92,425.996 \"/>\n",
       "<polyline clip-path=\"url(#clip840)\" style=\"stroke:#009af9; stroke-linecap:round; stroke-linejoin:round; stroke-width:4; stroke-opacity:1; fill:none\" points=\"1781.72,218.636 1912.53,218.636 \"/>\n",
       "<path clip-path=\"url(#clip840)\" d=\"M1954.67 214.967 Q1956.27 212.096 1958.49 210.731 Q1960.72 209.365 1963.72 209.365 Q1967.78 209.365 1969.97 212.212 Q1972.17 215.036 1972.17 220.268 L1972.17 235.916 L1967.89 235.916 L1967.89 220.407 Q1967.89 216.68 1966.57 214.874 Q1965.25 213.069 1962.54 213.069 Q1959.23 213.069 1957.31 215.268 Q1955.39 217.467 1955.39 221.263 L1955.39 235.916 L1951.11 235.916 L1951.11 220.407 Q1951.11 216.657 1949.79 214.874 Q1948.47 213.069 1945.72 213.069 Q1942.45 213.069 1940.53 215.291 Q1938.61 217.49 1938.61 221.263 L1938.61 235.916 L1934.33 235.916 L1934.33 209.99 L1938.61 209.99 L1938.61 214.018 Q1940.07 211.633 1942.1 210.499 Q1944.14 209.365 1946.94 209.365 Q1949.77 209.365 1951.73 210.8 Q1953.72 212.235 1954.67 214.967 Z\" fill=\"#000000\" fill-rule=\"nonzero\" fill-opacity=\"1\" /><path clip-path=\"url(#clip840)\" d=\"M1981.22 214.388 L2010.9 214.388 L2010.9 218.277 L1981.22 218.277 L1981.22 214.388 M1981.22 223.832 L2010.9 223.832 L2010.9 227.768 L1981.22 227.768 L1981.22 223.832 Z\" fill=\"#000000\" fill-rule=\"nonzero\" fill-opacity=\"1\" /><path clip-path=\"url(#clip840)\" d=\"M2031.57 216.772 Q2028.42 216.772 2026.57 218.925 Q2024.74 221.078 2024.74 224.828 Q2024.74 228.555 2026.57 230.731 Q2028.42 232.883 2031.57 232.883 Q2034.72 232.883 2036.55 230.731 Q2038.4 228.555 2038.4 224.828 Q2038.4 221.078 2036.55 218.925 Q2034.72 216.772 2031.57 216.772 M2040.85 202.12 L2040.85 206.379 Q2039.09 205.546 2037.29 205.106 Q2035.51 204.666 2033.75 204.666 Q2029.12 204.666 2026.66 207.791 Q2024.23 210.916 2023.89 217.235 Q2025.25 215.221 2027.31 214.157 Q2029.37 213.069 2031.85 213.069 Q2037.06 213.069 2040.07 216.24 Q2043.1 219.388 2043.1 224.828 Q2043.1 230.152 2039.95 233.369 Q2036.8 236.587 2031.57 236.587 Q2025.58 236.587 2022.4 232.004 Q2019.23 227.397 2019.23 218.67 Q2019.23 210.476 2023.12 205.615 Q2027.01 200.731 2033.56 200.731 Q2035.32 200.731 2037.1 201.078 Q2038.91 201.425 2040.85 202.12 Z\" fill=\"#000000\" fill-rule=\"nonzero\" fill-opacity=\"1\" /><polyline clip-path=\"url(#clip840)\" style=\"stroke:#e26f46; stroke-linecap:round; stroke-linejoin:round; stroke-width:4; stroke-opacity:1; fill:none\" points=\"1781.72,270.476 1912.53,270.476 \"/>\n",
       "<path clip-path=\"url(#clip840)\" d=\"M1954.67 266.807 Q1956.27 263.936 1958.49 262.571 Q1960.72 261.205 1963.72 261.205 Q1967.78 261.205 1969.97 264.052 Q1972.17 266.876 1972.17 272.108 L1972.17 287.756 L1967.89 287.756 L1967.89 272.247 Q1967.89 268.52 1966.57 266.714 Q1965.25 264.909 1962.54 264.909 Q1959.23 264.909 1957.31 267.108 Q1955.39 269.307 1955.39 273.103 L1955.39 287.756 L1951.11 287.756 L1951.11 272.247 Q1951.11 268.497 1949.79 266.714 Q1948.47 264.909 1945.72 264.909 Q1942.45 264.909 1940.53 267.131 Q1938.61 269.33 1938.61 273.103 L1938.61 287.756 L1934.33 287.756 L1934.33 261.83 L1938.61 261.83 L1938.61 265.858 Q1940.07 263.473 1942.1 262.339 Q1944.14 261.205 1946.94 261.205 Q1949.77 261.205 1951.73 262.64 Q1953.72 264.075 1954.67 266.807 Z\" fill=\"#000000\" fill-rule=\"nonzero\" fill-opacity=\"1\" /><path clip-path=\"url(#clip840)\" d=\"M1981.22 266.228 L2010.9 266.228 L2010.9 270.117 L1981.22 270.117 L1981.22 266.228 M1981.22 275.672 L2010.9 275.672 L2010.9 279.608 L1981.22 279.608 L1981.22 275.672 Z\" fill=\"#000000\" fill-rule=\"nonzero\" fill-opacity=\"1\" /><path clip-path=\"url(#clip840)\" d=\"M2030.99 271.344 Q2027.66 271.344 2025.74 273.126 Q2023.84 274.909 2023.84 278.034 Q2023.84 281.159 2025.74 282.941 Q2027.66 284.723 2030.99 284.723 Q2034.33 284.723 2036.25 282.941 Q2038.17 281.135 2038.17 278.034 Q2038.17 274.909 2036.25 273.126 Q2034.35 271.344 2030.99 271.344 M2026.32 269.353 Q2023.31 268.612 2021.62 266.552 Q2019.95 264.492 2019.95 261.529 Q2019.95 257.386 2022.89 254.978 Q2025.85 252.571 2030.99 252.571 Q2036.15 252.571 2039.09 254.978 Q2042.03 257.386 2042.03 261.529 Q2042.03 264.492 2040.34 266.552 Q2038.68 268.612 2035.69 269.353 Q2039.07 270.14 2040.95 272.432 Q2042.84 274.723 2042.84 278.034 Q2042.84 283.057 2039.77 285.742 Q2036.71 288.427 2030.99 288.427 Q2025.27 288.427 2022.2 285.742 Q2019.14 283.057 2019.14 278.034 Q2019.14 274.723 2021.04 272.432 Q2022.94 270.14 2026.32 269.353 M2024.6 261.969 Q2024.6 264.654 2026.27 266.159 Q2027.96 267.663 2030.99 267.663 Q2034 267.663 2035.69 266.159 Q2037.4 264.654 2037.4 261.969 Q2037.4 259.284 2035.69 257.779 Q2034 256.274 2030.99 256.274 Q2027.96 256.274 2026.27 257.779 Q2024.6 259.284 2024.6 261.969 Z\" fill=\"#000000\" fill-rule=\"nonzero\" fill-opacity=\"1\" /><polyline clip-path=\"url(#clip840)\" style=\"stroke:#3da44d; stroke-linecap:round; stroke-linejoin:round; stroke-width:4; stroke-opacity:1; fill:none\" points=\"1781.72,322.316 1912.53,322.316 \"/>\n",
       "<path clip-path=\"url(#clip840)\" d=\"M1954.67 318.647 Q1956.27 315.776 1958.49 314.411 Q1960.72 313.045 1963.72 313.045 Q1967.78 313.045 1969.97 315.892 Q1972.17 318.716 1972.17 323.948 L1972.17 339.596 L1967.89 339.596 L1967.89 324.087 Q1967.89 320.36 1966.57 318.554 Q1965.25 316.749 1962.54 316.749 Q1959.23 316.749 1957.31 318.948 Q1955.39 321.147 1955.39 324.943 L1955.39 339.596 L1951.11 339.596 L1951.11 324.087 Q1951.11 320.337 1949.79 318.554 Q1948.47 316.749 1945.72 316.749 Q1942.45 316.749 1940.53 318.971 Q1938.61 321.17 1938.61 324.943 L1938.61 339.596 L1934.33 339.596 L1934.33 313.67 L1938.61 313.67 L1938.61 317.698 Q1940.07 315.313 1942.1 314.179 Q1944.14 313.045 1946.94 313.045 Q1949.77 313.045 1951.73 314.48 Q1953.72 315.915 1954.67 318.647 Z\" fill=\"#000000\" fill-rule=\"nonzero\" fill-opacity=\"1\" /><path clip-path=\"url(#clip840)\" d=\"M1981.22 318.068 L2010.9 318.068 L2010.9 321.957 L1981.22 321.957 L1981.22 318.068 M1981.22 327.512 L2010.9 327.512 L2010.9 331.448 L1981.22 331.448 L1981.22 327.512 Z\" fill=\"#000000\" fill-rule=\"nonzero\" fill-opacity=\"1\" /><path clip-path=\"url(#clip840)\" d=\"M2025.02 335.661 L2041.34 335.661 L2041.34 339.596 L2019.4 339.596 L2019.4 335.661 Q2022.06 332.906 2026.64 328.276 Q2031.25 323.624 2032.43 322.281 Q2034.67 319.758 2035.55 318.022 Q2036.46 316.263 2036.46 314.573 Q2036.46 311.818 2034.51 310.082 Q2032.59 308.346 2029.49 308.346 Q2027.29 308.346 2024.84 309.11 Q2022.4 309.874 2019.63 311.425 L2019.63 306.702 Q2022.45 305.568 2024.9 304.989 Q2027.36 304.411 2029.4 304.411 Q2034.77 304.411 2037.96 307.096 Q2041.15 309.781 2041.15 314.272 Q2041.15 316.401 2040.34 318.323 Q2039.56 320.221 2037.45 322.813 Q2036.87 323.485 2033.77 326.702 Q2030.67 329.897 2025.02 335.661 Z\" fill=\"#000000\" fill-rule=\"nonzero\" fill-opacity=\"1\" /><path clip-path=\"url(#clip840)\" d=\"M2061.15 308.114 Q2057.54 308.114 2055.71 311.679 Q2053.91 315.221 2053.91 322.35 Q2053.91 329.457 2055.71 333.022 Q2057.54 336.563 2061.15 336.563 Q2064.79 336.563 2066.59 333.022 Q2068.42 329.457 2068.42 322.35 Q2068.42 315.221 2066.59 311.679 Q2064.79 308.114 2061.15 308.114 M2061.15 304.411 Q2066.96 304.411 2070.02 309.017 Q2073.1 313.6 2073.1 322.35 Q2073.1 331.077 2070.02 335.684 Q2066.96 340.267 2061.15 340.267 Q2055.34 340.267 2052.27 335.684 Q2049.21 331.077 2049.21 322.35 Q2049.21 313.6 2052.27 309.017 Q2055.34 304.411 2061.15 304.411 Z\" fill=\"#000000\" fill-rule=\"nonzero\" fill-opacity=\"1\" /><polyline clip-path=\"url(#clip840)\" style=\"stroke:#c271d2; stroke-linecap:round; stroke-linejoin:round; stroke-width:4; stroke-opacity:1; fill:none\" stroke-dasharray=\"16, 10\" points=\"1781.72,374.156 1912.53,374.156 \"/>\n",
       "<path clip-path=\"url(#clip840)\" d=\"M1934.33 356.876 L1956.18 356.876 L1956.18 360.811 L1939 360.811 L1939 371.042 L1955.46 371.042 L1955.46 374.977 L1939 374.977 L1939 387.501 L1956.59 387.501 L1956.59 391.436 L1934.33 391.436 L1934.33 356.876 Z\" fill=\"#000000\" fill-rule=\"nonzero\" fill-opacity=\"1\" /><path clip-path=\"url(#clip840)\" d=\"M1985.65 365.51 L1976.27 378.126 L1986.13 391.436 L1981.11 391.436 L1973.56 381.251 L1966.02 391.436 L1960.99 391.436 L1971.06 377.871 L1961.85 365.51 L1966.87 365.51 L1973.75 374.746 L1980.62 365.51 L1985.65 365.51 Z\" fill=\"#000000\" fill-rule=\"nonzero\" fill-opacity=\"1\" /><path clip-path=\"url(#clip840)\" d=\"M2003.93 378.403 Q1998.77 378.403 1996.78 379.584 Q1994.79 380.764 1994.79 383.612 Q1994.79 385.88 1996.27 387.223 Q1997.78 388.542 2000.34 388.542 Q2003.89 388.542 2006.02 386.042 Q2008.17 383.519 2008.17 379.352 L2008.17 378.403 L2003.93 378.403 M2012.43 376.644 L2012.43 391.436 L2008.17 391.436 L2008.17 387.501 Q2006.71 389.862 2004.53 390.996 Q2002.36 392.107 1999.21 392.107 Q1995.23 392.107 1992.87 389.885 Q1990.53 387.639 1990.53 383.889 Q1990.53 379.514 1993.45 377.292 Q1996.39 375.07 2002.2 375.07 L2008.17 375.07 L2008.17 374.653 Q2008.17 371.714 2006.22 370.116 Q2004.3 368.496 2000.81 368.496 Q1998.59 368.496 1996.48 369.028 Q1994.37 369.561 1992.43 370.626 L1992.43 366.69 Q1994.77 365.788 1996.96 365.348 Q1999.16 364.885 2001.25 364.885 Q2006.87 364.885 2009.65 367.802 Q2012.43 370.718 2012.43 376.644 Z\" fill=\"#000000\" fill-rule=\"nonzero\" fill-opacity=\"1\" /><path clip-path=\"url(#clip840)\" d=\"M2039.86 366.505 L2039.86 370.487 Q2038.05 369.491 2036.22 369.005 Q2034.42 368.496 2032.57 368.496 Q2028.42 368.496 2026.13 371.135 Q2023.84 373.751 2023.84 378.496 Q2023.84 383.241 2026.13 385.88 Q2028.42 388.496 2032.57 388.496 Q2034.42 388.496 2036.22 388.01 Q2038.05 387.501 2039.86 386.505 L2039.86 390.44 Q2038.08 391.274 2036.15 391.69 Q2034.26 392.107 2032.1 392.107 Q2026.25 392.107 2022.8 388.426 Q2019.35 384.746 2019.35 378.496 Q2019.35 372.153 2022.82 368.519 Q2026.32 364.885 2032.38 364.885 Q2034.35 364.885 2036.22 365.302 Q2038.1 365.695 2039.86 366.505 Z\" fill=\"#000000\" fill-rule=\"nonzero\" fill-opacity=\"1\" /><path clip-path=\"url(#clip840)\" d=\"M2051.48 358.149 L2051.48 365.51 L2060.25 365.51 L2060.25 368.82 L2051.48 368.82 L2051.48 382.894 Q2051.48 386.065 2052.33 386.968 Q2053.21 387.871 2055.88 387.871 L2060.25 387.871 L2060.25 391.436 L2055.88 391.436 Q2050.95 391.436 2049.07 389.607 Q2047.2 387.755 2047.2 382.894 L2047.2 368.82 L2044.07 368.82 L2044.07 365.51 L2047.2 365.51 L2047.2 358.149 L2051.48 358.149 Z\" fill=\"#000000\" fill-rule=\"nonzero\" fill-opacity=\"1\" /><path clip-path=\"url(#clip840)\" d=\"M2101.83 358.01 L2101.83 362.57 Q2099.16 361.297 2096.8 360.672 Q2094.44 360.047 2092.24 360.047 Q2088.42 360.047 2086.34 361.528 Q2084.28 363.01 2084.28 365.741 Q2084.28 368.033 2085.64 369.214 Q2087.03 370.371 2090.88 371.089 L2093.7 371.667 Q2098.93 372.663 2101.41 375.186 Q2103.91 377.686 2103.91 381.899 Q2103.91 386.922 2100.53 389.514 Q2097.17 392.107 2090.67 392.107 Q2088.21 392.107 2085.44 391.551 Q2082.68 390.996 2079.72 389.908 L2079.72 385.093 Q2082.57 386.69 2085.3 387.501 Q2088.03 388.311 2090.67 388.311 Q2094.67 388.311 2096.85 386.737 Q2099.02 385.163 2099.02 382.246 Q2099.02 379.7 2097.45 378.264 Q2095.9 376.829 2092.33 376.112 L2089.49 375.556 Q2084.26 374.515 2081.92 372.292 Q2079.58 370.07 2079.58 366.112 Q2079.58 361.528 2082.8 358.89 Q2086.04 356.251 2091.71 356.251 Q2094.14 356.251 2096.66 356.691 Q2099.19 357.13 2101.83 358.01 Z\" fill=\"#000000\" fill-rule=\"nonzero\" fill-opacity=\"1\" /><path clip-path=\"url(#clip840)\" d=\"M2121.06 368.496 Q2117.64 368.496 2115.64 371.181 Q2113.65 373.843 2113.65 378.496 Q2113.65 383.149 2115.62 385.834 Q2117.61 388.496 2121.06 388.496 Q2124.46 388.496 2126.45 385.811 Q2128.45 383.126 2128.45 378.496 Q2128.45 373.89 2126.45 371.204 Q2124.46 368.496 2121.06 368.496 M2121.06 364.885 Q2126.62 364.885 2129.79 368.496 Q2132.96 372.107 2132.96 378.496 Q2132.96 384.862 2129.79 388.496 Q2126.62 392.107 2121.06 392.107 Q2115.48 392.107 2112.31 388.496 Q2109.16 384.862 2109.16 378.496 Q2109.16 372.107 2112.31 368.496 Q2115.48 364.885 2121.06 364.885 Z\" fill=\"#000000\" fill-rule=\"nonzero\" fill-opacity=\"1\" /><path clip-path=\"url(#clip840)\" d=\"M2140.02 355.417 L2144.28 355.417 L2144.28 391.436 L2140.02 391.436 L2140.02 355.417 Z\" fill=\"#000000\" fill-rule=\"nonzero\" fill-opacity=\"1\" /><path clip-path=\"url(#clip840)\" d=\"M2152.75 381.204 L2152.75 365.51 L2157.01 365.51 L2157.01 381.042 Q2157.01 384.723 2158.45 386.575 Q2159.88 388.403 2162.75 388.403 Q2166.2 388.403 2168.19 386.204 Q2170.2 384.005 2170.2 380.209 L2170.2 365.51 L2174.46 365.51 L2174.46 391.436 L2170.2 391.436 L2170.2 387.454 Q2168.65 389.815 2166.59 390.973 Q2164.56 392.107 2161.85 392.107 Q2157.38 392.107 2155.07 389.329 Q2152.75 386.551 2152.75 381.204 M2163.47 364.885 L2163.47 364.885 Z\" fill=\"#000000\" fill-rule=\"nonzero\" fill-opacity=\"1\" /><path clip-path=\"url(#clip840)\" d=\"M2187.45 358.149 L2187.45 365.51 L2196.22 365.51 L2196.22 368.82 L2187.45 368.82 L2187.45 382.894 Q2187.45 386.065 2188.31 386.968 Q2189.19 387.871 2191.85 387.871 L2196.22 387.871 L2196.22 391.436 L2191.85 391.436 Q2186.92 391.436 2185.04 389.607 Q2183.17 387.755 2183.17 382.894 L2183.17 368.82 L2180.04 368.82 L2180.04 365.51 L2183.17 365.51 L2183.17 358.149 L2187.45 358.149 Z\" fill=\"#000000\" fill-rule=\"nonzero\" fill-opacity=\"1\" /><path clip-path=\"url(#clip840)\" d=\"M2201.82 365.51 L2206.08 365.51 L2206.08 391.436 L2201.82 391.436 L2201.82 365.51 M2201.82 355.417 L2206.08 355.417 L2206.08 360.811 L2201.82 360.811 L2201.82 355.417 Z\" fill=\"#000000\" fill-rule=\"nonzero\" fill-opacity=\"1\" /><path clip-path=\"url(#clip840)\" d=\"M2225.04 368.496 Q2221.62 368.496 2219.63 371.181 Q2217.64 373.843 2217.64 378.496 Q2217.64 383.149 2219.6 385.834 Q2221.59 388.496 2225.04 388.496 Q2228.45 388.496 2230.44 385.811 Q2232.43 383.126 2232.43 378.496 Q2232.43 373.89 2230.44 371.204 Q2228.45 368.496 2225.04 368.496 M2225.04 364.885 Q2230.6 364.885 2233.77 368.496 Q2236.94 372.107 2236.94 378.496 Q2236.94 384.862 2233.77 388.496 Q2230.6 392.107 2225.04 392.107 Q2219.46 392.107 2216.29 388.496 Q2213.14 384.862 2213.14 378.496 Q2213.14 372.107 2216.29 368.496 Q2219.46 364.885 2225.04 364.885 Z\" fill=\"#000000\" fill-rule=\"nonzero\" fill-opacity=\"1\" /><path clip-path=\"url(#clip840)\" d=\"M2265.55 375.788 L2265.55 391.436 L2261.29 391.436 L2261.29 375.927 Q2261.29 372.246 2259.86 370.417 Q2258.42 368.589 2255.55 368.589 Q2252.1 368.589 2250.11 370.788 Q2248.12 372.987 2248.12 376.783 L2248.12 391.436 L2243.84 391.436 L2243.84 365.51 L2248.12 365.51 L2248.12 369.538 Q2249.65 367.2 2251.71 366.042 Q2253.79 364.885 2256.5 364.885 Q2260.97 364.885 2263.26 367.663 Q2265.55 370.417 2265.55 375.788 Z\" fill=\"#000000\" fill-rule=\"nonzero\" fill-opacity=\"1\" /></svg>\n"
      ]
     },
     "execution_count": 87,
     "metadata": {},
     "output_type": "execute_result"
    }
   ],
   "source": [
    "using LinearAlgebra\n",
    "using Plots\n",
    "using ToeplitzMatrices\n",
    "\n",
    "# Define the function f(x)\n",
    "func(x) = x\n",
    "\n",
    "function create_system(m, c, d)\n",
    "    h = 1.0 / m\n",
    "    # Create the tridiagonal matrix A\n",
    "    A = Tridiagonal(\n",
    "        fill(-1/h^2, m-2),  # Lower diagonal\n",
    "        fill(2/h^2 + d, m-1),  # Main diagonal\n",
    "        fill(-1/h^2, m-2)  # Upper diagonal\n",
    "    )\n",
    "    \n",
    "    # Adjust the off-diagonals for the term involving c\n",
    "    for i in 1:m-2\n",
    "        A[i, i+1] += c / (2h)\n",
    "        A[i+1, i] += -c / (2h)\n",
    "    end\n",
    "    \n",
    "    # Construct the right-hand side vector b\n",
    "    b = [func(i*h) for i in 1:m-1]\n",
    "    \n",
    "    return A, b\n",
    "end\n",
    "\n",
    "# Create systems for different m\n",
    "A_6, b_6 = create_system(6, 1, 2)\n",
    "A_8, b_8 = create_system(8, 1, 2)\n",
    "A_20, b_20 = create_system(20, 1, 2)\n",
    "\n",
    "# Solve the systems\n",
    "u_6 = A_6 \\ b_6\n",
    "u_8 = A_8 \\ b_8\n",
    "u_20 = A_20 \\ b_20\n",
    "\n",
    "# Create grid points for plotting\n",
    "x_values_6 = [i / 6 for i in 0:6]\n",
    "x_values_8 = [i / 8 for i in 0:8]\n",
    "x_values_20 = [i / 20 for i in 0:20]\n",
    "\n",
    "# Calculate the exact solution for comparison\n",
    "C1 = (1 + exp(-1)) / (4 * (exp(2) - exp(-1)))  # Corrected exp function\n",
    "C2 = -(1 + exp(-1)) / (4 * (exp(2) - exp(-1)))\n",
    "\n",
    "# Define the exact solution function\n",
    "exact_solution(x) = C1 * exp(2 * x) + C2 * exp(-x) + (1/2) * x - (1/4)\n",
    "\n",
    "# Calculate exact values for plotting\n",
    "exact_values = [exact_solution(x) for x in 0:20]\n",
    "\n",
    "# Plotting\n",
    "plot(x_values_6[2:end-1], u_6, label=\"m=6\", legend=:topright, xlabel=\"x\", ylabel=\"u(x)\", title=\"Approximate and Exact Solutions\")\n",
    "plot!(x_values_8[2:end-1], u_8, label=\"m=8\")\n",
    "plot!(x_values_20[2:end-1], u_20, label=\"m=20\")\n",
    "plot!(x_values_20, exact_values, label=\"Exact Solution\", linestyle=:dash)"
   ]
  },
  {
   "cell_type": "code",
   "execution_count": null,
   "id": "0f78752c-b6b2-4636-a469-7cac500c48ce",
   "metadata": {},
   "outputs": [],
   "source": []
  },
  {
   "cell_type": "code",
   "execution_count": null,
   "id": "bb6d33ce-870f-49e4-bc17-14ce0347a90f",
   "metadata": {},
   "outputs": [],
   "source": []
  },
  {
   "cell_type": "code",
   "execution_count": null,
   "id": "6729e7ef-cca4-4a84-97cb-44d98c820042",
   "metadata": {},
   "outputs": [],
   "source": []
  },
  {
   "cell_type": "code",
   "execution_count": null,
   "id": "153762d7-3724-4ab5-9f4f-861c2df66cae",
   "metadata": {},
   "outputs": [],
   "source": []
  },
  {
   "cell_type": "code",
   "execution_count": null,
   "id": "988dc30c-a30a-4dcc-b2df-eaf1bb110cd8",
   "metadata": {},
   "outputs": [],
   "source": []
  },
  {
   "cell_type": "code",
   "execution_count": null,
   "id": "66b4517e-1192-4e7e-8fcb-c122069c2cf5",
   "metadata": {},
   "outputs": [],
   "source": []
  }
 ],
 "metadata": {
  "kernelspec": {
   "display_name": "Julia 1.8.3",
   "language": "julia",
   "name": "julia-1.8"
  },
  "language_info": {
   "file_extension": ".jl",
   "mimetype": "application/julia",
   "name": "julia",
   "version": "1.8.3"
  }
 },
 "nbformat": 4,
 "nbformat_minor": 5
}
